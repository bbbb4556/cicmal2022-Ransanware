{
  "nbformat": 4,
  "nbformat_minor": 0,
  "metadata": {
    "colab": {
      "name": "Copy of Untitled25.ipynb",
      "provenance": [],
      "collapsed_sections": [],
      "authorship_tag": "ABX9TyPIW/PrMLushYrcmAkg/tWT",
      "include_colab_link": true
    },
    "kernelspec": {
      "name": "python3",
      "display_name": "Python 3"
    },
    "language_info": {
      "name": "python"
    }
  },
  "cells": [
    {
      "cell_type": "markdown",
      "metadata": {
        "id": "view-in-github",
        "colab_type": "text"
      },
      "source": [
        "<a href=\"https://colab.research.google.com/github/bbbb4556/cicmal2022-Ransanware/blob/main/Copy_of_Untitled25.ipynb\" target=\"_parent\"><img src=\"https://colab.research.google.com/assets/colab-badge.svg\" alt=\"Open In Colab\"/></a>"
      ]
    },
    {
      "cell_type": "code",
      "execution_count": 75,
      "metadata": {
        "id": "o3i01DbdLe8f"
      },
      "outputs": [],
      "source": [
        "import numpy as np\n",
        "import pandas as pd\n",
        "import matplotlib.pyplot as plt\n",
        "from sklearn.preprocessing import LabelEncoder,OneHotEncoder\n",
        "from sklearn import preprocessing\n",
        "from sklearn.feature_selection import RFE\n",
        "\n",
        "from sklearn.model_selection import train_test_split # Import train_test_split function\n",
        "import warnings\n",
        "import seaborn as sns\n",
        "\n",
        "warnings.filterwarnings(\"ignore\")"
      ]
    },
    {
      "cell_type": "code",
      "source": [
        "from google.colab import drive\n",
        "drive.mount('/content/drive')"
      ],
      "metadata": {
        "colab": {
          "base_uri": "https://localhost:8080/"
        },
        "id": "ar2eP418LnlP",
        "outputId": "fa38bc79-914e-47a8-b007-16052f82c689"
      },
      "execution_count": 76,
      "outputs": [
        {
          "output_type": "stream",
          "name": "stdout",
          "text": [
            "Drive already mounted at /content/drive; to attempt to forcibly remount, call drive.mount(\"/content/drive\", force_remount=True).\n"
          ]
        }
      ]
    },
    {
      "cell_type": "markdown",
      "source": [
        "**مشاهده داده ها**\n"
      ],
      "metadata": {
        "id": "sSXGd39-Ynqm"
      }
    },
    {
      "cell_type": "code",
      "source": [
        "data0=pd.read_excel('/content/drive/MyDrive/malmem2022-full.xlsx')\n",
        "data0"
      ],
      "metadata": {
        "colab": {
          "base_uri": "https://localhost:8080/",
          "height": 575
        },
        "id": "PAi26bT_MG27",
        "outputId": "32aef0c8-bb03-4a1e-ac95-2994d591e0d3"
      },
      "execution_count": 77,
      "outputs": [
        {
          "output_type": "execute_result",
          "data": {
            "text/plain": [
              "          Category  pslist.nproc  pslist.nppid  pslist.avg_threads  \\\n",
              "0           Benign            45            17           10.555556   \n",
              "1           Benign            47            19           11.531915   \n",
              "2           Benign            40            14           14.725000   \n",
              "3           Benign            32            13           13.500000   \n",
              "4           Benign            42            16           11.452381   \n",
              "...            ...           ...           ...                 ...   \n",
              "58591  Trojan-Zeus            40            16            9.825000   \n",
              "58592  Trojan-Zeus            39            15            9.974359   \n",
              "58593  Trojan-Zeus            37            15           10.054054   \n",
              "58594  Trojan-Zeus            37            15           10.108108   \n",
              "58595  Trojan-Zeus            37            15           10.108108   \n",
              "\n",
              "       pslist.nprocs64bit  pslist.avg_handlers  dlllist.ndlls  \\\n",
              "0                       0           202.844444           1694   \n",
              "1                       0           242.234043           2074   \n",
              "2                       0           288.225000           1932   \n",
              "3                       0           264.281250           1445   \n",
              "4                       0           281.333333           2067   \n",
              "...                   ...                  ...            ...   \n",
              "58591                   0           208.075000           1556   \n",
              "58592                   0           210.358974           1521   \n",
              "58593                   0           214.702703           1445   \n",
              "58594                   0           214.675676           1445   \n",
              "58595                   0           214.351351           1445   \n",
              "\n",
              "       dlllist.avg_dlls_per_proc  handles.nhandles  \\\n",
              "0                      38.500000              9129   \n",
              "1                      44.127660             11385   \n",
              "2                      48.300000             11529   \n",
              "3                      45.156250              8457   \n",
              "4                      49.214286             11816   \n",
              "...                          ...               ...   \n",
              "58591                  38.900000              8323   \n",
              "58592                  39.000000              8204   \n",
              "58593                  39.054054              7944   \n",
              "58594                  39.054054              7943   \n",
              "58595                  39.054054              7931   \n",
              "\n",
              "       handles.avg_handles_per_proc  ...  svcscan.kernel_drivers  \\\n",
              "0                        212.302326  ...                     221   \n",
              "1                        242.234043  ...                     222   \n",
              "2                        288.225000  ...                     222   \n",
              "3                        264.281250  ...                     222   \n",
              "4                        281.333333  ...                     222   \n",
              "...                             ...  ...                     ...   \n",
              "58591                    208.075000  ...                     221   \n",
              "58592                    210.358974  ...                     221   \n",
              "58593                    214.702703  ...                     221   \n",
              "58594                    214.675676  ...                     221   \n",
              "58595                    214.351351  ...                     221   \n",
              "\n",
              "       svcscan.fs_drivers  svcscan.process_services  \\\n",
              "0                      26                        24   \n",
              "1                      26                        24   \n",
              "2                      26                        27   \n",
              "3                      26                        27   \n",
              "4                      26                        24   \n",
              "...                   ...                       ...   \n",
              "58591                  26                        24   \n",
              "58592                  26                        24   \n",
              "58593                  26                        24   \n",
              "58594                  26                        24   \n",
              "58595                  26                        24   \n",
              "\n",
              "       svcscan.shared_process_services  svcscan.interactive_process_services  \\\n",
              "0                                  116                                     0   \n",
              "1                                  118                                     0   \n",
              "2                                  118                                     0   \n",
              "3                                  118                                     0   \n",
              "4                                  118                                     0   \n",
              "...                                ...                                   ...   \n",
              "58591                              116                                     0   \n",
              "58592                              116                                     0   \n",
              "58593                              116                                     0   \n",
              "58594                              116                                     0   \n",
              "58595                              116                                     0   \n",
              "\n",
              "       svcscan.nactive  callbacks.ncallbacks  callbacks.nanonymous  \\\n",
              "0                  121                    87                     0   \n",
              "1                  122                    87                     0   \n",
              "2                  120                    88                     0   \n",
              "3                  120                    88                     0   \n",
              "4                  124                    87                     0   \n",
              "...                ...                   ...                   ...   \n",
              "58591              121                    87                     0   \n",
              "58592              120                    87                     0   \n",
              "58593              118                    87                     0   \n",
              "58594              118                    87                     0   \n",
              "58595              118                    87                     0   \n",
              "\n",
              "       callbacks.ngeneric    Class  \n",
              "0                       8   Benign  \n",
              "1                       8   Benign  \n",
              "2                       8   Benign  \n",
              "3                       8   Benign  \n",
              "4                       8   Benign  \n",
              "...                   ...      ...  \n",
              "58591                   8  Malware  \n",
              "58592                   8  Malware  \n",
              "58593                   8  Malware  \n",
              "58594                   8  Malware  \n",
              "58595                   8  Malware  \n",
              "\n",
              "[58596 rows x 57 columns]"
            ],
            "text/html": [
              "\n",
              "  <div id=\"df-b25b547d-6e97-46be-aae6-812c9e319387\">\n",
              "    <div class=\"colab-df-container\">\n",
              "      <div>\n",
              "<style scoped>\n",
              "    .dataframe tbody tr th:only-of-type {\n",
              "        vertical-align: middle;\n",
              "    }\n",
              "\n",
              "    .dataframe tbody tr th {\n",
              "        vertical-align: top;\n",
              "    }\n",
              "\n",
              "    .dataframe thead th {\n",
              "        text-align: right;\n",
              "    }\n",
              "</style>\n",
              "<table border=\"1\" class=\"dataframe\">\n",
              "  <thead>\n",
              "    <tr style=\"text-align: right;\">\n",
              "      <th></th>\n",
              "      <th>Category</th>\n",
              "      <th>pslist.nproc</th>\n",
              "      <th>pslist.nppid</th>\n",
              "      <th>pslist.avg_threads</th>\n",
              "      <th>pslist.nprocs64bit</th>\n",
              "      <th>pslist.avg_handlers</th>\n",
              "      <th>dlllist.ndlls</th>\n",
              "      <th>dlllist.avg_dlls_per_proc</th>\n",
              "      <th>handles.nhandles</th>\n",
              "      <th>handles.avg_handles_per_proc</th>\n",
              "      <th>...</th>\n",
              "      <th>svcscan.kernel_drivers</th>\n",
              "      <th>svcscan.fs_drivers</th>\n",
              "      <th>svcscan.process_services</th>\n",
              "      <th>svcscan.shared_process_services</th>\n",
              "      <th>svcscan.interactive_process_services</th>\n",
              "      <th>svcscan.nactive</th>\n",
              "      <th>callbacks.ncallbacks</th>\n",
              "      <th>callbacks.nanonymous</th>\n",
              "      <th>callbacks.ngeneric</th>\n",
              "      <th>Class</th>\n",
              "    </tr>\n",
              "  </thead>\n",
              "  <tbody>\n",
              "    <tr>\n",
              "      <th>0</th>\n",
              "      <td>Benign</td>\n",
              "      <td>45</td>\n",
              "      <td>17</td>\n",
              "      <td>10.555556</td>\n",
              "      <td>0</td>\n",
              "      <td>202.844444</td>\n",
              "      <td>1694</td>\n",
              "      <td>38.500000</td>\n",
              "      <td>9129</td>\n",
              "      <td>212.302326</td>\n",
              "      <td>...</td>\n",
              "      <td>221</td>\n",
              "      <td>26</td>\n",
              "      <td>24</td>\n",
              "      <td>116</td>\n",
              "      <td>0</td>\n",
              "      <td>121</td>\n",
              "      <td>87</td>\n",
              "      <td>0</td>\n",
              "      <td>8</td>\n",
              "      <td>Benign</td>\n",
              "    </tr>\n",
              "    <tr>\n",
              "      <th>1</th>\n",
              "      <td>Benign</td>\n",
              "      <td>47</td>\n",
              "      <td>19</td>\n",
              "      <td>11.531915</td>\n",
              "      <td>0</td>\n",
              "      <td>242.234043</td>\n",
              "      <td>2074</td>\n",
              "      <td>44.127660</td>\n",
              "      <td>11385</td>\n",
              "      <td>242.234043</td>\n",
              "      <td>...</td>\n",
              "      <td>222</td>\n",
              "      <td>26</td>\n",
              "      <td>24</td>\n",
              "      <td>118</td>\n",
              "      <td>0</td>\n",
              "      <td>122</td>\n",
              "      <td>87</td>\n",
              "      <td>0</td>\n",
              "      <td>8</td>\n",
              "      <td>Benign</td>\n",
              "    </tr>\n",
              "    <tr>\n",
              "      <th>2</th>\n",
              "      <td>Benign</td>\n",
              "      <td>40</td>\n",
              "      <td>14</td>\n",
              "      <td>14.725000</td>\n",
              "      <td>0</td>\n",
              "      <td>288.225000</td>\n",
              "      <td>1932</td>\n",
              "      <td>48.300000</td>\n",
              "      <td>11529</td>\n",
              "      <td>288.225000</td>\n",
              "      <td>...</td>\n",
              "      <td>222</td>\n",
              "      <td>26</td>\n",
              "      <td>27</td>\n",
              "      <td>118</td>\n",
              "      <td>0</td>\n",
              "      <td>120</td>\n",
              "      <td>88</td>\n",
              "      <td>0</td>\n",
              "      <td>8</td>\n",
              "      <td>Benign</td>\n",
              "    </tr>\n",
              "    <tr>\n",
              "      <th>3</th>\n",
              "      <td>Benign</td>\n",
              "      <td>32</td>\n",
              "      <td>13</td>\n",
              "      <td>13.500000</td>\n",
              "      <td>0</td>\n",
              "      <td>264.281250</td>\n",
              "      <td>1445</td>\n",
              "      <td>45.156250</td>\n",
              "      <td>8457</td>\n",
              "      <td>264.281250</td>\n",
              "      <td>...</td>\n",
              "      <td>222</td>\n",
              "      <td>26</td>\n",
              "      <td>27</td>\n",
              "      <td>118</td>\n",
              "      <td>0</td>\n",
              "      <td>120</td>\n",
              "      <td>88</td>\n",
              "      <td>0</td>\n",
              "      <td>8</td>\n",
              "      <td>Benign</td>\n",
              "    </tr>\n",
              "    <tr>\n",
              "      <th>4</th>\n",
              "      <td>Benign</td>\n",
              "      <td>42</td>\n",
              "      <td>16</td>\n",
              "      <td>11.452381</td>\n",
              "      <td>0</td>\n",
              "      <td>281.333333</td>\n",
              "      <td>2067</td>\n",
              "      <td>49.214286</td>\n",
              "      <td>11816</td>\n",
              "      <td>281.333333</td>\n",
              "      <td>...</td>\n",
              "      <td>222</td>\n",
              "      <td>26</td>\n",
              "      <td>24</td>\n",
              "      <td>118</td>\n",
              "      <td>0</td>\n",
              "      <td>124</td>\n",
              "      <td>87</td>\n",
              "      <td>0</td>\n",
              "      <td>8</td>\n",
              "      <td>Benign</td>\n",
              "    </tr>\n",
              "    <tr>\n",
              "      <th>...</th>\n",
              "      <td>...</td>\n",
              "      <td>...</td>\n",
              "      <td>...</td>\n",
              "      <td>...</td>\n",
              "      <td>...</td>\n",
              "      <td>...</td>\n",
              "      <td>...</td>\n",
              "      <td>...</td>\n",
              "      <td>...</td>\n",
              "      <td>...</td>\n",
              "      <td>...</td>\n",
              "      <td>...</td>\n",
              "      <td>...</td>\n",
              "      <td>...</td>\n",
              "      <td>...</td>\n",
              "      <td>...</td>\n",
              "      <td>...</td>\n",
              "      <td>...</td>\n",
              "      <td>...</td>\n",
              "      <td>...</td>\n",
              "      <td>...</td>\n",
              "    </tr>\n",
              "    <tr>\n",
              "      <th>58591</th>\n",
              "      <td>Trojan-Zeus</td>\n",
              "      <td>40</td>\n",
              "      <td>16</td>\n",
              "      <td>9.825000</td>\n",
              "      <td>0</td>\n",
              "      <td>208.075000</td>\n",
              "      <td>1556</td>\n",
              "      <td>38.900000</td>\n",
              "      <td>8323</td>\n",
              "      <td>208.075000</td>\n",
              "      <td>...</td>\n",
              "      <td>221</td>\n",
              "      <td>26</td>\n",
              "      <td>24</td>\n",
              "      <td>116</td>\n",
              "      <td>0</td>\n",
              "      <td>121</td>\n",
              "      <td>87</td>\n",
              "      <td>0</td>\n",
              "      <td>8</td>\n",
              "      <td>Malware</td>\n",
              "    </tr>\n",
              "    <tr>\n",
              "      <th>58592</th>\n",
              "      <td>Trojan-Zeus</td>\n",
              "      <td>39</td>\n",
              "      <td>15</td>\n",
              "      <td>9.974359</td>\n",
              "      <td>0</td>\n",
              "      <td>210.358974</td>\n",
              "      <td>1521</td>\n",
              "      <td>39.000000</td>\n",
              "      <td>8204</td>\n",
              "      <td>210.358974</td>\n",
              "      <td>...</td>\n",
              "      <td>221</td>\n",
              "      <td>26</td>\n",
              "      <td>24</td>\n",
              "      <td>116</td>\n",
              "      <td>0</td>\n",
              "      <td>120</td>\n",
              "      <td>87</td>\n",
              "      <td>0</td>\n",
              "      <td>8</td>\n",
              "      <td>Malware</td>\n",
              "    </tr>\n",
              "    <tr>\n",
              "      <th>58593</th>\n",
              "      <td>Trojan-Zeus</td>\n",
              "      <td>37</td>\n",
              "      <td>15</td>\n",
              "      <td>10.054054</td>\n",
              "      <td>0</td>\n",
              "      <td>214.702703</td>\n",
              "      <td>1445</td>\n",
              "      <td>39.054054</td>\n",
              "      <td>7944</td>\n",
              "      <td>214.702703</td>\n",
              "      <td>...</td>\n",
              "      <td>221</td>\n",
              "      <td>26</td>\n",
              "      <td>24</td>\n",
              "      <td>116</td>\n",
              "      <td>0</td>\n",
              "      <td>118</td>\n",
              "      <td>87</td>\n",
              "      <td>0</td>\n",
              "      <td>8</td>\n",
              "      <td>Malware</td>\n",
              "    </tr>\n",
              "    <tr>\n",
              "      <th>58594</th>\n",
              "      <td>Trojan-Zeus</td>\n",
              "      <td>37</td>\n",
              "      <td>15</td>\n",
              "      <td>10.108108</td>\n",
              "      <td>0</td>\n",
              "      <td>214.675676</td>\n",
              "      <td>1445</td>\n",
              "      <td>39.054054</td>\n",
              "      <td>7943</td>\n",
              "      <td>214.675676</td>\n",
              "      <td>...</td>\n",
              "      <td>221</td>\n",
              "      <td>26</td>\n",
              "      <td>24</td>\n",
              "      <td>116</td>\n",
              "      <td>0</td>\n",
              "      <td>118</td>\n",
              "      <td>87</td>\n",
              "      <td>0</td>\n",
              "      <td>8</td>\n",
              "      <td>Malware</td>\n",
              "    </tr>\n",
              "    <tr>\n",
              "      <th>58595</th>\n",
              "      <td>Trojan-Zeus</td>\n",
              "      <td>37</td>\n",
              "      <td>15</td>\n",
              "      <td>10.108108</td>\n",
              "      <td>0</td>\n",
              "      <td>214.351351</td>\n",
              "      <td>1445</td>\n",
              "      <td>39.054054</td>\n",
              "      <td>7931</td>\n",
              "      <td>214.351351</td>\n",
              "      <td>...</td>\n",
              "      <td>221</td>\n",
              "      <td>26</td>\n",
              "      <td>24</td>\n",
              "      <td>116</td>\n",
              "      <td>0</td>\n",
              "      <td>118</td>\n",
              "      <td>87</td>\n",
              "      <td>0</td>\n",
              "      <td>8</td>\n",
              "      <td>Malware</td>\n",
              "    </tr>\n",
              "  </tbody>\n",
              "</table>\n",
              "<p>58596 rows × 57 columns</p>\n",
              "</div>\n",
              "      <button class=\"colab-df-convert\" onclick=\"convertToInteractive('df-b25b547d-6e97-46be-aae6-812c9e319387')\"\n",
              "              title=\"Convert this dataframe to an interactive table.\"\n",
              "              style=\"display:none;\">\n",
              "        \n",
              "  <svg xmlns=\"http://www.w3.org/2000/svg\" height=\"24px\"viewBox=\"0 0 24 24\"\n",
              "       width=\"24px\">\n",
              "    <path d=\"M0 0h24v24H0V0z\" fill=\"none\"/>\n",
              "    <path d=\"M18.56 5.44l.94 2.06.94-2.06 2.06-.94-2.06-.94-.94-2.06-.94 2.06-2.06.94zm-11 1L8.5 8.5l.94-2.06 2.06-.94-2.06-.94L8.5 2.5l-.94 2.06-2.06.94zm10 10l.94 2.06.94-2.06 2.06-.94-2.06-.94-.94-2.06-.94 2.06-2.06.94z\"/><path d=\"M17.41 7.96l-1.37-1.37c-.4-.4-.92-.59-1.43-.59-.52 0-1.04.2-1.43.59L10.3 9.45l-7.72 7.72c-.78.78-.78 2.05 0 2.83L4 21.41c.39.39.9.59 1.41.59.51 0 1.02-.2 1.41-.59l7.78-7.78 2.81-2.81c.8-.78.8-2.07 0-2.86zM5.41 20L4 18.59l7.72-7.72 1.47 1.35L5.41 20z\"/>\n",
              "  </svg>\n",
              "      </button>\n",
              "      \n",
              "  <style>\n",
              "    .colab-df-container {\n",
              "      display:flex;\n",
              "      flex-wrap:wrap;\n",
              "      gap: 12px;\n",
              "    }\n",
              "\n",
              "    .colab-df-convert {\n",
              "      background-color: #E8F0FE;\n",
              "      border: none;\n",
              "      border-radius: 50%;\n",
              "      cursor: pointer;\n",
              "      display: none;\n",
              "      fill: #1967D2;\n",
              "      height: 32px;\n",
              "      padding: 0 0 0 0;\n",
              "      width: 32px;\n",
              "    }\n",
              "\n",
              "    .colab-df-convert:hover {\n",
              "      background-color: #E2EBFA;\n",
              "      box-shadow: 0px 1px 2px rgba(60, 64, 67, 0.3), 0px 1px 3px 1px rgba(60, 64, 67, 0.15);\n",
              "      fill: #174EA6;\n",
              "    }\n",
              "\n",
              "    [theme=dark] .colab-df-convert {\n",
              "      background-color: #3B4455;\n",
              "      fill: #D2E3FC;\n",
              "    }\n",
              "\n",
              "    [theme=dark] .colab-df-convert:hover {\n",
              "      background-color: #434B5C;\n",
              "      box-shadow: 0px 1px 3px 1px rgba(0, 0, 0, 0.15);\n",
              "      filter: drop-shadow(0px 1px 2px rgba(0, 0, 0, 0.3));\n",
              "      fill: #FFFFFF;\n",
              "    }\n",
              "  </style>\n",
              "\n",
              "      <script>\n",
              "        const buttonEl =\n",
              "          document.querySelector('#df-b25b547d-6e97-46be-aae6-812c9e319387 button.colab-df-convert');\n",
              "        buttonEl.style.display =\n",
              "          google.colab.kernel.accessAllowed ? 'block' : 'none';\n",
              "\n",
              "        async function convertToInteractive(key) {\n",
              "          const element = document.querySelector('#df-b25b547d-6e97-46be-aae6-812c9e319387');\n",
              "          const dataTable =\n",
              "            await google.colab.kernel.invokeFunction('convertToInteractive',\n",
              "                                                     [key], {});\n",
              "          if (!dataTable) return;\n",
              "\n",
              "          const docLinkHtml = 'Like what you see? Visit the ' +\n",
              "            '<a target=\"_blank\" href=https://colab.research.google.com/notebooks/data_table.ipynb>data table notebook</a>'\n",
              "            + ' to learn more about interactive tables.';\n",
              "          element.innerHTML = '';\n",
              "          dataTable['output_type'] = 'display_data';\n",
              "          await google.colab.output.renderOutput(dataTable, element);\n",
              "          const docLink = document.createElement('div');\n",
              "          docLink.innerHTML = docLinkHtml;\n",
              "          element.appendChild(docLink);\n",
              "        }\n",
              "      </script>\n",
              "    </div>\n",
              "  </div>\n",
              "  "
            ]
          },
          "metadata": {},
          "execution_count": 77
        }
      ]
    },
    {
      "cell_type": "markdown",
      "source": [
        "**توصیفی از داده ها**"
      ],
      "metadata": {
        "id": "eqEuI-Z_Y-vp"
      }
    },
    {
      "cell_type": "code",
      "source": [
        "data0.describe()"
      ],
      "metadata": {
        "colab": {
          "base_uri": "https://localhost:8080/",
          "height": 394
        },
        "id": "SnZumBAdQ9EL",
        "outputId": "ceebd588-c695-4169-aec4-b801e689220f"
      },
      "execution_count": 78,
      "outputs": [
        {
          "output_type": "execute_result",
          "data": {
            "text/plain": [
              "       pslist.nproc  pslist.nppid  pslist.avg_threads  pslist.nprocs64bit  \\\n",
              "count  58596.000000  58596.000000        58596.000000             58596.0   \n",
              "mean      41.394771     14.713837           11.341655                 0.0   \n",
              "std        5.777249      2.656748            1.588231                 0.0   \n",
              "min       21.000000      8.000000            1.650000                 0.0   \n",
              "25%       40.000000     12.000000            9.972973                 0.0   \n",
              "50%       41.000000     15.000000           11.000000                 0.0   \n",
              "75%       43.000000     16.000000           12.861955                 0.0   \n",
              "max      240.000000     72.000000           16.818182                 0.0   \n",
              "\n",
              "       pslist.avg_handlers  dlllist.ndlls  dlllist.avg_dlls_per_proc  \\\n",
              "count         58596.000000   58596.000000               58596.000000   \n",
              "mean            247.509819    1810.805447                  43.707806   \n",
              "std             111.857790     329.782639                   5.742023   \n",
              "min              34.962500     670.000000                   7.333333   \n",
              "25%             208.725000    1556.000000                  38.833333   \n",
              "50%             243.963710    1735.000000                  42.781524   \n",
              "75%             289.974322    2087.000000                  49.605280   \n",
              "max           24845.951220    3443.000000                  53.170732   \n",
              "\n",
              "       handles.nhandles  handles.avg_handles_per_proc  handles.nport  ...  \\\n",
              "count      5.859600e+04                  58596.000000        58596.0  ...   \n",
              "mean       1.025858e+04                    249.560958            0.0  ...   \n",
              "std        4.866864e+03                    145.999866            0.0  ...   \n",
              "min        3.514000e+03                     71.139241            0.0  ...   \n",
              "25%        8.393000e+03                    209.648228            0.0  ...   \n",
              "50%        9.287500e+03                    247.208951            0.0  ...   \n",
              "75%        1.219300e+04                    291.355050            0.0  ...   \n",
              "max        1.047310e+06                  33784.193550            0.0  ...   \n",
              "\n",
              "       svcscan.nservices  svcscan.kernel_drivers  svcscan.fs_drivers  \\\n",
              "count       58596.000000            58596.000000        58596.000000   \n",
              "mean          391.347549              221.406581           25.996245   \n",
              "std             4.529704                1.991087            0.170790   \n",
              "min            94.000000               55.000000            6.000000   \n",
              "25%           389.000000              221.000000           26.000000   \n",
              "50%           389.000000              221.000000           26.000000   \n",
              "75%           395.000000              222.000000           26.000000   \n",
              "max           395.000000              222.000000           26.000000   \n",
              "\n",
              "       svcscan.process_services  svcscan.shared_process_services  \\\n",
              "count              58596.000000                     58596.000000   \n",
              "mean                  25.063417                       116.879514   \n",
              "std                    1.529628                         1.550401   \n",
              "min                    7.000000                        26.000000   \n",
              "25%                   24.000000                       116.000000   \n",
              "50%                   24.000000                       116.000000   \n",
              "75%                   27.000000                       118.000000   \n",
              "max                   27.000000                       118.000000   \n",
              "\n",
              "       svcscan.interactive_process_services  svcscan.nactive  \\\n",
              "count                               58596.0     58596.000000   \n",
              "mean                                    0.0       121.995546   \n",
              "std                                     0.0         2.822858   \n",
              "min                                     0.0        30.000000   \n",
              "25%                                     0.0       121.000000   \n",
              "50%                                     0.0       122.000000   \n",
              "75%                                     0.0       123.000000   \n",
              "max                                     0.0       129.000000   \n",
              "\n",
              "       callbacks.ncallbacks  callbacks.nanonymous  callbacks.ngeneric  \n",
              "count          58596.000000          58596.000000        58596.000000  \n",
              "mean              86.905659              0.000853            7.999881  \n",
              "std                3.134117              0.029199            0.010929  \n",
              "min               50.000000              0.000000            7.000000  \n",
              "25%               87.000000              0.000000            8.000000  \n",
              "50%               87.000000              0.000000            8.000000  \n",
              "75%               88.000000              0.000000            8.000000  \n",
              "max               89.000000              1.000000            8.000000  \n",
              "\n",
              "[8 rows x 55 columns]"
            ],
            "text/html": [
              "\n",
              "  <div id=\"df-917472f6-a867-47b4-b7ab-313f4982f1c6\">\n",
              "    <div class=\"colab-df-container\">\n",
              "      <div>\n",
              "<style scoped>\n",
              "    .dataframe tbody tr th:only-of-type {\n",
              "        vertical-align: middle;\n",
              "    }\n",
              "\n",
              "    .dataframe tbody tr th {\n",
              "        vertical-align: top;\n",
              "    }\n",
              "\n",
              "    .dataframe thead th {\n",
              "        text-align: right;\n",
              "    }\n",
              "</style>\n",
              "<table border=\"1\" class=\"dataframe\">\n",
              "  <thead>\n",
              "    <tr style=\"text-align: right;\">\n",
              "      <th></th>\n",
              "      <th>pslist.nproc</th>\n",
              "      <th>pslist.nppid</th>\n",
              "      <th>pslist.avg_threads</th>\n",
              "      <th>pslist.nprocs64bit</th>\n",
              "      <th>pslist.avg_handlers</th>\n",
              "      <th>dlllist.ndlls</th>\n",
              "      <th>dlllist.avg_dlls_per_proc</th>\n",
              "      <th>handles.nhandles</th>\n",
              "      <th>handles.avg_handles_per_proc</th>\n",
              "      <th>handles.nport</th>\n",
              "      <th>...</th>\n",
              "      <th>svcscan.nservices</th>\n",
              "      <th>svcscan.kernel_drivers</th>\n",
              "      <th>svcscan.fs_drivers</th>\n",
              "      <th>svcscan.process_services</th>\n",
              "      <th>svcscan.shared_process_services</th>\n",
              "      <th>svcscan.interactive_process_services</th>\n",
              "      <th>svcscan.nactive</th>\n",
              "      <th>callbacks.ncallbacks</th>\n",
              "      <th>callbacks.nanonymous</th>\n",
              "      <th>callbacks.ngeneric</th>\n",
              "    </tr>\n",
              "  </thead>\n",
              "  <tbody>\n",
              "    <tr>\n",
              "      <th>count</th>\n",
              "      <td>58596.000000</td>\n",
              "      <td>58596.000000</td>\n",
              "      <td>58596.000000</td>\n",
              "      <td>58596.0</td>\n",
              "      <td>58596.000000</td>\n",
              "      <td>58596.000000</td>\n",
              "      <td>58596.000000</td>\n",
              "      <td>5.859600e+04</td>\n",
              "      <td>58596.000000</td>\n",
              "      <td>58596.0</td>\n",
              "      <td>...</td>\n",
              "      <td>58596.000000</td>\n",
              "      <td>58596.000000</td>\n",
              "      <td>58596.000000</td>\n",
              "      <td>58596.000000</td>\n",
              "      <td>58596.000000</td>\n",
              "      <td>58596.0</td>\n",
              "      <td>58596.000000</td>\n",
              "      <td>58596.000000</td>\n",
              "      <td>58596.000000</td>\n",
              "      <td>58596.000000</td>\n",
              "    </tr>\n",
              "    <tr>\n",
              "      <th>mean</th>\n",
              "      <td>41.394771</td>\n",
              "      <td>14.713837</td>\n",
              "      <td>11.341655</td>\n",
              "      <td>0.0</td>\n",
              "      <td>247.509819</td>\n",
              "      <td>1810.805447</td>\n",
              "      <td>43.707806</td>\n",
              "      <td>1.025858e+04</td>\n",
              "      <td>249.560958</td>\n",
              "      <td>0.0</td>\n",
              "      <td>...</td>\n",
              "      <td>391.347549</td>\n",
              "      <td>221.406581</td>\n",
              "      <td>25.996245</td>\n",
              "      <td>25.063417</td>\n",
              "      <td>116.879514</td>\n",
              "      <td>0.0</td>\n",
              "      <td>121.995546</td>\n",
              "      <td>86.905659</td>\n",
              "      <td>0.000853</td>\n",
              "      <td>7.999881</td>\n",
              "    </tr>\n",
              "    <tr>\n",
              "      <th>std</th>\n",
              "      <td>5.777249</td>\n",
              "      <td>2.656748</td>\n",
              "      <td>1.588231</td>\n",
              "      <td>0.0</td>\n",
              "      <td>111.857790</td>\n",
              "      <td>329.782639</td>\n",
              "      <td>5.742023</td>\n",
              "      <td>4.866864e+03</td>\n",
              "      <td>145.999866</td>\n",
              "      <td>0.0</td>\n",
              "      <td>...</td>\n",
              "      <td>4.529704</td>\n",
              "      <td>1.991087</td>\n",
              "      <td>0.170790</td>\n",
              "      <td>1.529628</td>\n",
              "      <td>1.550401</td>\n",
              "      <td>0.0</td>\n",
              "      <td>2.822858</td>\n",
              "      <td>3.134117</td>\n",
              "      <td>0.029199</td>\n",
              "      <td>0.010929</td>\n",
              "    </tr>\n",
              "    <tr>\n",
              "      <th>min</th>\n",
              "      <td>21.000000</td>\n",
              "      <td>8.000000</td>\n",
              "      <td>1.650000</td>\n",
              "      <td>0.0</td>\n",
              "      <td>34.962500</td>\n",
              "      <td>670.000000</td>\n",
              "      <td>7.333333</td>\n",
              "      <td>3.514000e+03</td>\n",
              "      <td>71.139241</td>\n",
              "      <td>0.0</td>\n",
              "      <td>...</td>\n",
              "      <td>94.000000</td>\n",
              "      <td>55.000000</td>\n",
              "      <td>6.000000</td>\n",
              "      <td>7.000000</td>\n",
              "      <td>26.000000</td>\n",
              "      <td>0.0</td>\n",
              "      <td>30.000000</td>\n",
              "      <td>50.000000</td>\n",
              "      <td>0.000000</td>\n",
              "      <td>7.000000</td>\n",
              "    </tr>\n",
              "    <tr>\n",
              "      <th>25%</th>\n",
              "      <td>40.000000</td>\n",
              "      <td>12.000000</td>\n",
              "      <td>9.972973</td>\n",
              "      <td>0.0</td>\n",
              "      <td>208.725000</td>\n",
              "      <td>1556.000000</td>\n",
              "      <td>38.833333</td>\n",
              "      <td>8.393000e+03</td>\n",
              "      <td>209.648228</td>\n",
              "      <td>0.0</td>\n",
              "      <td>...</td>\n",
              "      <td>389.000000</td>\n",
              "      <td>221.000000</td>\n",
              "      <td>26.000000</td>\n",
              "      <td>24.000000</td>\n",
              "      <td>116.000000</td>\n",
              "      <td>0.0</td>\n",
              "      <td>121.000000</td>\n",
              "      <td>87.000000</td>\n",
              "      <td>0.000000</td>\n",
              "      <td>8.000000</td>\n",
              "    </tr>\n",
              "    <tr>\n",
              "      <th>50%</th>\n",
              "      <td>41.000000</td>\n",
              "      <td>15.000000</td>\n",
              "      <td>11.000000</td>\n",
              "      <td>0.0</td>\n",
              "      <td>243.963710</td>\n",
              "      <td>1735.000000</td>\n",
              "      <td>42.781524</td>\n",
              "      <td>9.287500e+03</td>\n",
              "      <td>247.208951</td>\n",
              "      <td>0.0</td>\n",
              "      <td>...</td>\n",
              "      <td>389.000000</td>\n",
              "      <td>221.000000</td>\n",
              "      <td>26.000000</td>\n",
              "      <td>24.000000</td>\n",
              "      <td>116.000000</td>\n",
              "      <td>0.0</td>\n",
              "      <td>122.000000</td>\n",
              "      <td>87.000000</td>\n",
              "      <td>0.000000</td>\n",
              "      <td>8.000000</td>\n",
              "    </tr>\n",
              "    <tr>\n",
              "      <th>75%</th>\n",
              "      <td>43.000000</td>\n",
              "      <td>16.000000</td>\n",
              "      <td>12.861955</td>\n",
              "      <td>0.0</td>\n",
              "      <td>289.974322</td>\n",
              "      <td>2087.000000</td>\n",
              "      <td>49.605280</td>\n",
              "      <td>1.219300e+04</td>\n",
              "      <td>291.355050</td>\n",
              "      <td>0.0</td>\n",
              "      <td>...</td>\n",
              "      <td>395.000000</td>\n",
              "      <td>222.000000</td>\n",
              "      <td>26.000000</td>\n",
              "      <td>27.000000</td>\n",
              "      <td>118.000000</td>\n",
              "      <td>0.0</td>\n",
              "      <td>123.000000</td>\n",
              "      <td>88.000000</td>\n",
              "      <td>0.000000</td>\n",
              "      <td>8.000000</td>\n",
              "    </tr>\n",
              "    <tr>\n",
              "      <th>max</th>\n",
              "      <td>240.000000</td>\n",
              "      <td>72.000000</td>\n",
              "      <td>16.818182</td>\n",
              "      <td>0.0</td>\n",
              "      <td>24845.951220</td>\n",
              "      <td>3443.000000</td>\n",
              "      <td>53.170732</td>\n",
              "      <td>1.047310e+06</td>\n",
              "      <td>33784.193550</td>\n",
              "      <td>0.0</td>\n",
              "      <td>...</td>\n",
              "      <td>395.000000</td>\n",
              "      <td>222.000000</td>\n",
              "      <td>26.000000</td>\n",
              "      <td>27.000000</td>\n",
              "      <td>118.000000</td>\n",
              "      <td>0.0</td>\n",
              "      <td>129.000000</td>\n",
              "      <td>89.000000</td>\n",
              "      <td>1.000000</td>\n",
              "      <td>8.000000</td>\n",
              "    </tr>\n",
              "  </tbody>\n",
              "</table>\n",
              "<p>8 rows × 55 columns</p>\n",
              "</div>\n",
              "      <button class=\"colab-df-convert\" onclick=\"convertToInteractive('df-917472f6-a867-47b4-b7ab-313f4982f1c6')\"\n",
              "              title=\"Convert this dataframe to an interactive table.\"\n",
              "              style=\"display:none;\">\n",
              "        \n",
              "  <svg xmlns=\"http://www.w3.org/2000/svg\" height=\"24px\"viewBox=\"0 0 24 24\"\n",
              "       width=\"24px\">\n",
              "    <path d=\"M0 0h24v24H0V0z\" fill=\"none\"/>\n",
              "    <path d=\"M18.56 5.44l.94 2.06.94-2.06 2.06-.94-2.06-.94-.94-2.06-.94 2.06-2.06.94zm-11 1L8.5 8.5l.94-2.06 2.06-.94-2.06-.94L8.5 2.5l-.94 2.06-2.06.94zm10 10l.94 2.06.94-2.06 2.06-.94-2.06-.94-.94-2.06-.94 2.06-2.06.94z\"/><path d=\"M17.41 7.96l-1.37-1.37c-.4-.4-.92-.59-1.43-.59-.52 0-1.04.2-1.43.59L10.3 9.45l-7.72 7.72c-.78.78-.78 2.05 0 2.83L4 21.41c.39.39.9.59 1.41.59.51 0 1.02-.2 1.41-.59l7.78-7.78 2.81-2.81c.8-.78.8-2.07 0-2.86zM5.41 20L4 18.59l7.72-7.72 1.47 1.35L5.41 20z\"/>\n",
              "  </svg>\n",
              "      </button>\n",
              "      \n",
              "  <style>\n",
              "    .colab-df-container {\n",
              "      display:flex;\n",
              "      flex-wrap:wrap;\n",
              "      gap: 12px;\n",
              "    }\n",
              "\n",
              "    .colab-df-convert {\n",
              "      background-color: #E8F0FE;\n",
              "      border: none;\n",
              "      border-radius: 50%;\n",
              "      cursor: pointer;\n",
              "      display: none;\n",
              "      fill: #1967D2;\n",
              "      height: 32px;\n",
              "      padding: 0 0 0 0;\n",
              "      width: 32px;\n",
              "    }\n",
              "\n",
              "    .colab-df-convert:hover {\n",
              "      background-color: #E2EBFA;\n",
              "      box-shadow: 0px 1px 2px rgba(60, 64, 67, 0.3), 0px 1px 3px 1px rgba(60, 64, 67, 0.15);\n",
              "      fill: #174EA6;\n",
              "    }\n",
              "\n",
              "    [theme=dark] .colab-df-convert {\n",
              "      background-color: #3B4455;\n",
              "      fill: #D2E3FC;\n",
              "    }\n",
              "\n",
              "    [theme=dark] .colab-df-convert:hover {\n",
              "      background-color: #434B5C;\n",
              "      box-shadow: 0px 1px 3px 1px rgba(0, 0, 0, 0.15);\n",
              "      filter: drop-shadow(0px 1px 2px rgba(0, 0, 0, 0.3));\n",
              "      fill: #FFFFFF;\n",
              "    }\n",
              "  </style>\n",
              "\n",
              "      <script>\n",
              "        const buttonEl =\n",
              "          document.querySelector('#df-917472f6-a867-47b4-b7ab-313f4982f1c6 button.colab-df-convert');\n",
              "        buttonEl.style.display =\n",
              "          google.colab.kernel.accessAllowed ? 'block' : 'none';\n",
              "\n",
              "        async function convertToInteractive(key) {\n",
              "          const element = document.querySelector('#df-917472f6-a867-47b4-b7ab-313f4982f1c6');\n",
              "          const dataTable =\n",
              "            await google.colab.kernel.invokeFunction('convertToInteractive',\n",
              "                                                     [key], {});\n",
              "          if (!dataTable) return;\n",
              "\n",
              "          const docLinkHtml = 'Like what you see? Visit the ' +\n",
              "            '<a target=\"_blank\" href=https://colab.research.google.com/notebooks/data_table.ipynb>data table notebook</a>'\n",
              "            + ' to learn more about interactive tables.';\n",
              "          element.innerHTML = '';\n",
              "          dataTable['output_type'] = 'display_data';\n",
              "          await google.colab.output.renderOutput(dataTable, element);\n",
              "          const docLink = document.createElement('div');\n",
              "          docLink.innerHTML = docLinkHtml;\n",
              "          element.appendChild(docLink);\n",
              "        }\n",
              "      </script>\n",
              "    </div>\n",
              "  </div>\n",
              "  "
            ]
          },
          "metadata": {},
          "execution_count": 78
        }
      ]
    },
    {
      "cell_type": "markdown",
      "source": [
        "**مشاهده تعداد داده ها-تعداد داده های مخرب و غیرمخرب(خوش خیم)-مجموع داده های مخرب برابر با داده های غیرمخرب می باشد**"
      ],
      "metadata": {
        "id": "PAYIGdTrZEEA"
      }
    },
    {
      "cell_type": "code",
      "source": [
        "sns.countplot(data0[\"Category\"])\n",
        "plt.xticks(rotation=90)\n",
        "plt.tight_layout()\n",
        "plt.show()"
      ],
      "metadata": {
        "colab": {
          "base_uri": "https://localhost:8080/",
          "height": 298
        },
        "id": "UqFn8tPVMV1O",
        "outputId": "96a83315-a90b-4f36-9b80-c9b9cb240154"
      },
      "execution_count": 79,
      "outputs": [
        {
          "output_type": "display_data",
          "data": {
            "text/plain": [
              "<Figure size 432x288 with 1 Axes>"
            ],
            "image/png": "[encoded data removed]"
          },
          "metadata": {
            "needs_background": "light"
          }
        }
      ]
    },
    {
      "cell_type": "markdown",
      "source": [
        "**شروع اقدامات پیش پردازش داده ها**"
      ],
      "metadata": {
        "id": "V0SgDt_dZYNf"
      }
    },
    {
      "cell_type": "code",
      "source": [
        "to_drop=['Class']"
      ],
      "metadata": {
        "id": "QkyMuupxMay7"
      },
      "execution_count": 80,
      "outputs": []
    },
    {
      "cell_type": "markdown",
      "source": [
        "** حذف می گرددclass برابر با استراتژی و روش کار پیش بینی شده ابتدا ستون **"
      ],
      "metadata": {
        "id": "eJpb43QoZja3"
      }
    },
    {
      "cell_type": "code",
      "source": [
        "data0.drop(to_drop,inplace=True,axis=1)"
      ],
      "metadata": {
        "id": "Q0Yw-Q1WMctr"
      },
      "execution_count": 81,
      "outputs": []
    },
    {
      "cell_type": "markdown",
      "source": [
        "**برابر مقاله دیتاست موجود با توجه به اینکه ما قصد داریم فقط روی بدافزار مبهم کار کنیم برخی از ویژگی های دیتاست که مخصوص برای بدافزار مبهم می باشد را نگه می داریم و باقی را حذف می کنیم**"
      ],
      "metadata": {
        "id": "8rsjlHQ5Z_41"
      }
    },
    {
      "cell_type": "code",
      "source": [
        "to_drop=['pslist.nproc','pslist.nppid','pslist.avg_threads','pslist.nprocs64bit',\n",
        "         'pslist.avg_handlers','dlllist.ndlls','dlllist.avg_dlls_per_proc',\n",
        "         'handles.nhandles','handles.avg_handles_per_proc','ldrmodules.not_in_load',\n",
        "         'ldrmodules.not_in_init','ldrmodules.not_in_mem','malfind.ninjections',\n",
        "         'psxview.not_in_pslist','psxview.not_in_eprocess_pool','psxview.not_in_ethread_pool',\n",
        "         'psxview.not_in_pspcid_list','psxview.not_in_csrss_handles','psxview.not_in_session',\n",
        "         'psxview.not_in_deskthrd','psxview.not_in_csrss_handles_false_avg','modules.nmodules',\n",
        "         'svcscan.nservices','svcscan.kernel_drivers','svcscan.fs_drivers','svcscan.process_services',\n",
        "         'svcscan.shared_process_services','svcscan.interactive_process_services','svcscan.nactive',\n",
        "         'callbacks.ncallbacks','callbacks.nanonymous','callbacks.ngeneric']"
      ],
      "metadata": {
        "id": "U75IChldMicP"
      },
      "execution_count": 82,
      "outputs": []
    },
    {
      "cell_type": "code",
      "source": [
        "data0.drop(to_drop, inplace=True, axis=1)"
      ],
      "metadata": {
        "id": "z4spvcbQMlK7"
      },
      "execution_count": 83,
      "outputs": []
    },
    {
      "cell_type": "markdown",
      "source": [
        "** کار کنیم باقی بدافزار موجود در دیتاست را حدف می کنیمRansanwareبا توجه به اینکه ما قصد داریم فقط بر روی بدافزار **"
      ],
      "metadata": {
        "id": "_L-8rskYajqz"
      }
    },
    {
      "cell_type": "code",
      "source": [
        "data0.drop(data0[data0['Category']=='Trojan-Reconyc'].index,inplace=True)\n",
        "data0.drop(data0[data0['Category']=='Trojan-Zeus'].index,inplace=True)\n",
        "data0.drop(data0[data0['Category']=='Trojan-Scar'].index,inplace=True)\n",
        "data0.drop(data0[data0['Category']=='Trojan-Refroso'].index,inplace=True)\n",
        "data0.drop(data0[data0['Category']=='Trojan-Emotet'].index,inplace=True)\n",
        "data0.drop(data0[data0['Category']=='Spyware-Transponder'].index,inplace=True)\n",
        "data0.drop(data0[data0['Category']=='Spyware-TIBS'].index,inplace=True)\n",
        "data0.drop(data0[data0['Category']=='Spyware-Gator'].index,inplace=True)\n",
        "data0.drop(data0[data0['Category']=='Spyware-CWS'].index,inplace=True)\n",
        "data0.drop(data0[data0['Category']=='Spyware-180solutions'].index,inplace=True)"
      ],
      "metadata": {
        "id": "Is57_62JMrjz"
      },
      "execution_count": 84,
      "outputs": []
    },
    {
      "cell_type": "code",
      "source": [
        "data0"
      ],
      "metadata": {
        "colab": {
          "base_uri": "https://localhost:8080/",
          "height": 575
        },
        "id": "Dn1T41F4Mt57",
        "outputId": "cd65e23c-9eb7-47c7-b702-088ea67859d3"
      },
      "execution_count": 85,
      "outputs": [
        {
          "output_type": "execute_result",
          "data": {
            "text/plain": [
              "               Category  handles.nport  handles.nfile  handles.nevent  \\\n",
              "0                Benign              0            670            3161   \n",
              "1                Benign              0            840            3761   \n",
              "2                Benign              0           1050            3996   \n",
              "3                Benign              0            630            2961   \n",
              "4                Benign              0            908            3834   \n",
              "...                 ...            ...            ...             ...   \n",
              "39084  Ransomware-Shade              0            665            2980   \n",
              "39085  Ransomware-Shade              0            662            2944   \n",
              "39086  Ransomware-Shade              0            653            2895   \n",
              "39087  Ransomware-Shade              0            652            2870   \n",
              "39088  Ransomware-Shade              0            651            2875   \n",
              "\n",
              "       handles.ndesktop  handles.nkey  handles.nthread  handles.ndirectory  \\\n",
              "0                    46           716              887                 104   \n",
              "1                    51          1011             1030                 117   \n",
              "2                    45           784             1241                 100   \n",
              "3                    36           654              792                  83   \n",
              "4                    45          1252              942                 103   \n",
              "...                 ...           ...              ...                 ...   \n",
              "39084                46           696              713                 107   \n",
              "39085                45           691              706                 106   \n",
              "39086                44           709              677                 100   \n",
              "39087                43           699              672                  98   \n",
              "39088                43           699              671                  98   \n",
              "\n",
              "       handles.nsemaphore  handles.ntimer  ...  ldrmodules.not_in_mem_avg  \\\n",
              "0                     671             125  ...                   0.030372   \n",
              "1                     766             148  ...                   0.036167   \n",
              "2                     645             138  ...                   0.026114   \n",
              "3                     567             127  ...                   0.021483   \n",
              "4                     825             135  ...                   0.047820   \n",
              "...                   ...             ...  ...                        ...   \n",
              "39084                 616             123  ...                   0.029306   \n",
              "39085                 608             119  ...                   0.029448   \n",
              "39086                 606             116  ...                   0.030457   \n",
              "39087                 604             113  ...                   0.030539   \n",
              "39088                 604             113  ...                   0.030579   \n",
              "\n",
              "       malfind.commitCharge  malfind.protection  malfind.uniqueInjections  \\\n",
              "0                        21                  30                  1.250000   \n",
              "1                        77                  72                  1.714286   \n",
              "2                         6                  30                  1.250000   \n",
              "3                         2                  12                  1.000000   \n",
              "4                        77                  72                  2.000000   \n",
              "...                     ...                 ...                       ...   \n",
              "39084                     4                  24                  1.000000   \n",
              "39085                     4                  24                  1.000000   \n",
              "39086                     4                  24                  1.000000   \n",
              "39087                     4                  24                  1.000000   \n",
              "39088                     4                  24                  1.000000   \n",
              "\n",
              "       psxview.not_in_pslist_false_avg  \\\n",
              "0                             0.042553   \n",
              "1                             0.000000   \n",
              "2                             0.000000   \n",
              "3                             0.000000   \n",
              "4                             0.086957   \n",
              "...                                ...   \n",
              "39084                         0.022727   \n",
              "39085                         0.045455   \n",
              "39086                         0.046512   \n",
              "39087                         0.069767   \n",
              "39088                         0.000000   \n",
              "\n",
              "       psxview.not_in_eprocess_pool_false_avg  \\\n",
              "0                                         0.0   \n",
              "1                                         0.0   \n",
              "2                                         0.0   \n",
              "3                                         0.0   \n",
              "4                                         0.0   \n",
              "...                                       ...   \n",
              "39084                                     0.0   \n",
              "39085                                     0.0   \n",
              "39086                                     0.0   \n",
              "39087                                     0.0   \n",
              "39088                                     0.0   \n",
              "\n",
              "       psxview.not_in_ethread_pool_false_avg  \\\n",
              "0                                   0.063830   \n",
              "1                                   0.000000   \n",
              "2                                   0.000000   \n",
              "3                                   0.000000   \n",
              "4                                   0.086957   \n",
              "...                                      ...   \n",
              "39084                               0.022727   \n",
              "39085                               0.045455   \n",
              "39086                               0.046512   \n",
              "39087                               0.069767   \n",
              "39088                               0.000000   \n",
              "\n",
              "       psxview.not_in_pspcid_list_false_avg  psxview.not_in_session_false_avg  \\\n",
              "0                                  0.042553                          0.085106   \n",
              "1                                  0.000000                          0.042553   \n",
              "2                                  0.000000                          0.050000   \n",
              "3                                  0.000000                          0.062500   \n",
              "4                                  0.086957                          0.130435   \n",
              "...                                     ...                               ...   \n",
              "39084                              0.022727                          0.068182   \n",
              "39085                              0.045455                          0.090909   \n",
              "39086                              0.046512                          0.093023   \n",
              "39087                              0.069767                          0.116279   \n",
              "39088                              0.000000                          0.050000   \n",
              "\n",
              "       psxview.not_in_deskthrd_false_avg  \n",
              "0                               0.191489  \n",
              "1                               0.127660  \n",
              "2                               0.125000  \n",
              "3                               0.187500  \n",
              "4                               0.217391  \n",
              "...                                  ...  \n",
              "39084                           0.159091  \n",
              "39085                           0.181818  \n",
              "39086                           0.186047  \n",
              "39087                           0.209302  \n",
              "39088                           0.150000  \n",
              "\n",
              "[39089 rows x 24 columns]"
            ],
            "text/html": [
              "\n",
              "  <div id=\"df-df63f6f3-60cd-48c7-a426-b5c287093c96\">\n",
              "    <div class=\"colab-df-container\">\n",
              "      <div>\n",
              "<style scoped>\n",
              "    .dataframe tbody tr th:only-of-type {\n",
              "        vertical-align: middle;\n",
              "    }\n",
              "\n",
              "    .dataframe tbody tr th {\n",
              "        vertical-align: top;\n",
              "    }\n",
              "\n",
              "    .dataframe thead th {\n",
              "        text-align: right;\n",
              "    }\n",
              "</style>\n",
              "<table border=\"1\" class=\"dataframe\">\n",
              "  <thead>\n",
              "    <tr style=\"text-align: right;\">\n",
              "      <th></th>\n",
              "      <th>Category</th>\n",
              "      <th>handles.nport</th>\n",
              "      <th>handles.nfile</th>\n",
              "      <th>handles.nevent</th>\n",
              "      <th>handles.ndesktop</th>\n",
              "      <th>handles.nkey</th>\n",
              "      <th>handles.nthread</th>\n",
              "      <th>handles.ndirectory</th>\n",
              "      <th>handles.nsemaphore</th>\n",
              "      <th>handles.ntimer</th>\n",
              "      <th>...</th>\n",
              "      <th>ldrmodules.not_in_mem_avg</th>\n",
              "      <th>malfind.commitCharge</th>\n",
              "      <th>malfind.protection</th>\n",
              "      <th>malfind.uniqueInjections</th>\n",
              "      <th>psxview.not_in_pslist_false_avg</th>\n",
              "      <th>psxview.not_in_eprocess_pool_false_avg</th>\n",
              "      <th>psxview.not_in_ethread_pool_false_avg</th>\n",
              "      <th>psxview.not_in_pspcid_list_false_avg</th>\n",
              "      <th>psxview.not_in_session_false_avg</th>\n",
              "      <th>psxview.not_in_deskthrd_false_avg</th>\n",
              "    </tr>\n",
              "  </thead>\n",
              "  <tbody>\n",
              "    <tr>\n",
              "      <th>0</th>\n",
              "      <td>Benign</td>\n",
              "      <td>0</td>\n",
              "      <td>670</td>\n",
              "      <td>3161</td>\n",
              "      <td>46</td>\n",
              "      <td>716</td>\n",
              "      <td>887</td>\n",
              "      <td>104</td>\n",
              "      <td>671</td>\n",
              "      <td>125</td>\n",
              "      <td>...</td>\n",
              "      <td>0.030372</td>\n",
              "      <td>21</td>\n",
              "      <td>30</td>\n",
              "      <td>1.250000</td>\n",
              "      <td>0.042553</td>\n",
              "      <td>0.0</td>\n",
              "      <td>0.063830</td>\n",
              "      <td>0.042553</td>\n",
              "      <td>0.085106</td>\n",
              "      <td>0.191489</td>\n",
              "    </tr>\n",
              "    <tr>\n",
              "      <th>1</th>\n",
              "      <td>Benign</td>\n",
              "      <td>0</td>\n",
              "      <td>840</td>\n",
              "      <td>3761</td>\n",
              "      <td>51</td>\n",
              "      <td>1011</td>\n",
              "      <td>1030</td>\n",
              "      <td>117</td>\n",
              "      <td>766</td>\n",
              "      <td>148</td>\n",
              "      <td>...</td>\n",
              "      <td>0.036167</td>\n",
              "      <td>77</td>\n",
              "      <td>72</td>\n",
              "      <td>1.714286</td>\n",
              "      <td>0.000000</td>\n",
              "      <td>0.0</td>\n",
              "      <td>0.000000</td>\n",
              "      <td>0.000000</td>\n",
              "      <td>0.042553</td>\n",
              "      <td>0.127660</td>\n",
              "    </tr>\n",
              "    <tr>\n",
              "      <th>2</th>\n",
              "      <td>Benign</td>\n",
              "      <td>0</td>\n",
              "      <td>1050</td>\n",
              "      <td>3996</td>\n",
              "      <td>45</td>\n",
              "      <td>784</td>\n",
              "      <td>1241</td>\n",
              "      <td>100</td>\n",
              "      <td>645</td>\n",
              "      <td>138</td>\n",
              "      <td>...</td>\n",
              "      <td>0.026114</td>\n",
              "      <td>6</td>\n",
              "      <td>30</td>\n",
              "      <td>1.250000</td>\n",
              "      <td>0.000000</td>\n",
              "      <td>0.0</td>\n",
              "      <td>0.000000</td>\n",
              "      <td>0.000000</td>\n",
              "      <td>0.050000</td>\n",
              "      <td>0.125000</td>\n",
              "    </tr>\n",
              "    <tr>\n",
              "      <th>3</th>\n",
              "      <td>Benign</td>\n",
              "      <td>0</td>\n",
              "      <td>630</td>\n",
              "      <td>2961</td>\n",
              "      <td>36</td>\n",
              "      <td>654</td>\n",
              "      <td>792</td>\n",
              "      <td>83</td>\n",
              "      <td>567</td>\n",
              "      <td>127</td>\n",
              "      <td>...</td>\n",
              "      <td>0.021483</td>\n",
              "      <td>2</td>\n",
              "      <td>12</td>\n",
              "      <td>1.000000</td>\n",
              "      <td>0.000000</td>\n",
              "      <td>0.0</td>\n",
              "      <td>0.000000</td>\n",
              "      <td>0.000000</td>\n",
              "      <td>0.062500</td>\n",
              "      <td>0.187500</td>\n",
              "    </tr>\n",
              "    <tr>\n",
              "      <th>4</th>\n",
              "      <td>Benign</td>\n",
              "      <td>0</td>\n",
              "      <td>908</td>\n",
              "      <td>3834</td>\n",
              "      <td>45</td>\n",
              "      <td>1252</td>\n",
              "      <td>942</td>\n",
              "      <td>103</td>\n",
              "      <td>825</td>\n",
              "      <td>135</td>\n",
              "      <td>...</td>\n",
              "      <td>0.047820</td>\n",
              "      <td>77</td>\n",
              "      <td>72</td>\n",
              "      <td>2.000000</td>\n",
              "      <td>0.086957</td>\n",
              "      <td>0.0</td>\n",
              "      <td>0.086957</td>\n",
              "      <td>0.086957</td>\n",
              "      <td>0.130435</td>\n",
              "      <td>0.217391</td>\n",
              "    </tr>\n",
              "    <tr>\n",
              "      <th>...</th>\n",
              "      <td>...</td>\n",
              "      <td>...</td>\n",
              "      <td>...</td>\n",
              "      <td>...</td>\n",
              "      <td>...</td>\n",
              "      <td>...</td>\n",
              "      <td>...</td>\n",
              "      <td>...</td>\n",
              "      <td>...</td>\n",
              "      <td>...</td>\n",
              "      <td>...</td>\n",
              "      <td>...</td>\n",
              "      <td>...</td>\n",
              "      <td>...</td>\n",
              "      <td>...</td>\n",
              "      <td>...</td>\n",
              "      <td>...</td>\n",
              "      <td>...</td>\n",
              "      <td>...</td>\n",
              "      <td>...</td>\n",
              "      <td>...</td>\n",
              "    </tr>\n",
              "    <tr>\n",
              "      <th>39084</th>\n",
              "      <td>Ransomware-Shade</td>\n",
              "      <td>0</td>\n",
              "      <td>665</td>\n",
              "      <td>2980</td>\n",
              "      <td>46</td>\n",
              "      <td>696</td>\n",
              "      <td>713</td>\n",
              "      <td>107</td>\n",
              "      <td>616</td>\n",
              "      <td>123</td>\n",
              "      <td>...</td>\n",
              "      <td>0.029306</td>\n",
              "      <td>4</td>\n",
              "      <td>24</td>\n",
              "      <td>1.000000</td>\n",
              "      <td>0.022727</td>\n",
              "      <td>0.0</td>\n",
              "      <td>0.022727</td>\n",
              "      <td>0.022727</td>\n",
              "      <td>0.068182</td>\n",
              "      <td>0.159091</td>\n",
              "    </tr>\n",
              "    <tr>\n",
              "      <th>39085</th>\n",
              "      <td>Ransomware-Shade</td>\n",
              "      <td>0</td>\n",
              "      <td>662</td>\n",
              "      <td>2944</td>\n",
              "      <td>45</td>\n",
              "      <td>691</td>\n",
              "      <td>706</td>\n",
              "      <td>106</td>\n",
              "      <td>608</td>\n",
              "      <td>119</td>\n",
              "      <td>...</td>\n",
              "      <td>0.029448</td>\n",
              "      <td>4</td>\n",
              "      <td>24</td>\n",
              "      <td>1.000000</td>\n",
              "      <td>0.045455</td>\n",
              "      <td>0.0</td>\n",
              "      <td>0.045455</td>\n",
              "      <td>0.045455</td>\n",
              "      <td>0.090909</td>\n",
              "      <td>0.181818</td>\n",
              "    </tr>\n",
              "    <tr>\n",
              "      <th>39086</th>\n",
              "      <td>Ransomware-Shade</td>\n",
              "      <td>0</td>\n",
              "      <td>653</td>\n",
              "      <td>2895</td>\n",
              "      <td>44</td>\n",
              "      <td>709</td>\n",
              "      <td>677</td>\n",
              "      <td>100</td>\n",
              "      <td>606</td>\n",
              "      <td>116</td>\n",
              "      <td>...</td>\n",
              "      <td>0.030457</td>\n",
              "      <td>4</td>\n",
              "      <td>24</td>\n",
              "      <td>1.000000</td>\n",
              "      <td>0.046512</td>\n",
              "      <td>0.0</td>\n",
              "      <td>0.046512</td>\n",
              "      <td>0.046512</td>\n",
              "      <td>0.093023</td>\n",
              "      <td>0.186047</td>\n",
              "    </tr>\n",
              "    <tr>\n",
              "      <th>39087</th>\n",
              "      <td>Ransomware-Shade</td>\n",
              "      <td>0</td>\n",
              "      <td>652</td>\n",
              "      <td>2870</td>\n",
              "      <td>43</td>\n",
              "      <td>699</td>\n",
              "      <td>672</td>\n",
              "      <td>98</td>\n",
              "      <td>604</td>\n",
              "      <td>113</td>\n",
              "      <td>...</td>\n",
              "      <td>0.030539</td>\n",
              "      <td>4</td>\n",
              "      <td>24</td>\n",
              "      <td>1.000000</td>\n",
              "      <td>0.069767</td>\n",
              "      <td>0.0</td>\n",
              "      <td>0.069767</td>\n",
              "      <td>0.069767</td>\n",
              "      <td>0.116279</td>\n",
              "      <td>0.209302</td>\n",
              "    </tr>\n",
              "    <tr>\n",
              "      <th>39088</th>\n",
              "      <td>Ransomware-Shade</td>\n",
              "      <td>0</td>\n",
              "      <td>651</td>\n",
              "      <td>2875</td>\n",
              "      <td>43</td>\n",
              "      <td>699</td>\n",
              "      <td>671</td>\n",
              "      <td>98</td>\n",
              "      <td>604</td>\n",
              "      <td>113</td>\n",
              "      <td>...</td>\n",
              "      <td>0.030579</td>\n",
              "      <td>4</td>\n",
              "      <td>24</td>\n",
              "      <td>1.000000</td>\n",
              "      <td>0.000000</td>\n",
              "      <td>0.0</td>\n",
              "      <td>0.000000</td>\n",
              "      <td>0.000000</td>\n",
              "      <td>0.050000</td>\n",
              "      <td>0.150000</td>\n",
              "    </tr>\n",
              "  </tbody>\n",
              "</table>\n",
              "<p>39089 rows × 24 columns</p>\n",
              "</div>\n",
              "      <button class=\"colab-df-convert\" onclick=\"convertToInteractive('df-df63f6f3-60cd-48c7-a426-b5c287093c96')\"\n",
              "              title=\"Convert this dataframe to an interactive table.\"\n",
              "              style=\"display:none;\">\n",
              "        \n",
              "  <svg xmlns=\"http://www.w3.org/2000/svg\" height=\"24px\"viewBox=\"0 0 24 24\"\n",
              "       width=\"24px\">\n",
              "    <path d=\"M0 0h24v24H0V0z\" fill=\"none\"/>\n",
              "    <path d=\"M18.56 5.44l.94 2.06.94-2.06 2.06-.94-2.06-.94-.94-2.06-.94 2.06-2.06.94zm-11 1L8.5 8.5l.94-2.06 2.06-.94-2.06-.94L8.5 2.5l-.94 2.06-2.06.94zm10 10l.94 2.06.94-2.06 2.06-.94-2.06-.94-.94-2.06-.94 2.06-2.06.94z\"/><path d=\"M17.41 7.96l-1.37-1.37c-.4-.4-.92-.59-1.43-.59-.52 0-1.04.2-1.43.59L10.3 9.45l-7.72 7.72c-.78.78-.78 2.05 0 2.83L4 21.41c.39.39.9.59 1.41.59.51 0 1.02-.2 1.41-.59l7.78-7.78 2.81-2.81c.8-.78.8-2.07 0-2.86zM5.41 20L4 18.59l7.72-7.72 1.47 1.35L5.41 20z\"/>\n",
              "  </svg>\n",
              "      </button>\n",
              "      \n",
              "  <style>\n",
              "    .colab-df-container {\n",
              "      display:flex;\n",
              "      flex-wrap:wrap;\n",
              "      gap: 12px;\n",
              "    }\n",
              "\n",
              "    .colab-df-convert {\n",
              "      background-color: #E8F0FE;\n",
              "      border: none;\n",
              "      border-radius: 50%;\n",
              "      cursor: pointer;\n",
              "      display: none;\n",
              "      fill: #1967D2;\n",
              "      height: 32px;\n",
              "      padding: 0 0 0 0;\n",
              "      width: 32px;\n",
              "    }\n",
              "\n",
              "    .colab-df-convert:hover {\n",
              "      background-color: #E2EBFA;\n",
              "      box-shadow: 0px 1px 2px rgba(60, 64, 67, 0.3), 0px 1px 3px 1px rgba(60, 64, 67, 0.15);\n",
              "      fill: #174EA6;\n",
              "    }\n",
              "\n",
              "    [theme=dark] .colab-df-convert {\n",
              "      background-color: #3B4455;\n",
              "      fill: #D2E3FC;\n",
              "    }\n",
              "\n",
              "    [theme=dark] .colab-df-convert:hover {\n",
              "      background-color: #434B5C;\n",
              "      box-shadow: 0px 1px 3px 1px rgba(0, 0, 0, 0.15);\n",
              "      filter: drop-shadow(0px 1px 2px rgba(0, 0, 0, 0.3));\n",
              "      fill: #FFFFFF;\n",
              "    }\n",
              "  </style>\n",
              "\n",
              "      <script>\n",
              "        const buttonEl =\n",
              "          document.querySelector('#df-df63f6f3-60cd-48c7-a426-b5c287093c96 button.colab-df-convert');\n",
              "        buttonEl.style.display =\n",
              "          google.colab.kernel.accessAllowed ? 'block' : 'none';\n",
              "\n",
              "        async function convertToInteractive(key) {\n",
              "          const element = document.querySelector('#df-df63f6f3-60cd-48c7-a426-b5c287093c96');\n",
              "          const dataTable =\n",
              "            await google.colab.kernel.invokeFunction('convertToInteractive',\n",
              "                                                     [key], {});\n",
              "          if (!dataTable) return;\n",
              "\n",
              "          const docLinkHtml = 'Like what you see? Visit the ' +\n",
              "            '<a target=\"_blank\" href=https://colab.research.google.com/notebooks/data_table.ipynb>data table notebook</a>'\n",
              "            + ' to learn more about interactive tables.';\n",
              "          element.innerHTML = '';\n",
              "          dataTable['output_type'] = 'display_data';\n",
              "          await google.colab.output.renderOutput(dataTable, element);\n",
              "          const docLink = document.createElement('div');\n",
              "          docLink.innerHTML = docLinkHtml;\n",
              "          element.appendChild(docLink);\n",
              "        }\n",
              "      </script>\n",
              "    </div>\n",
              "  </div>\n",
              "  "
            ]
          },
          "metadata": {},
          "execution_count": 85
        }
      ]
    },
    {
      "cell_type": "markdown",
      "source": [
        "** در دیتاست موجود می باشدRansanware با توجه به حذف دیگر بدافزارها فقط انواع بدافزار **"
      ],
      "metadata": {
        "id": "KJ-l04MEazgp"
      }
    },
    {
      "cell_type": "code",
      "source": [
        "sns.countplot(data0[\"Category\"])\n",
        "plt.xticks(rotation=90)\n",
        "plt.tight_layout()\n",
        "plt.show()"
      ],
      "metadata": {
        "colab": {
          "base_uri": "https://localhost:8080/",
          "height": 298
        },
        "id": "U7_DFfbjMzVs",
        "outputId": "cc1ead4f-90eb-42be-90c2-e98c0edc50ec"
      },
      "execution_count": 86,
      "outputs": [
        {
          "output_type": "display_data",
          "data": {
            "text/plain": [
              "<Figure size 432x288 with 1 Axes>"
            ],
            "image/png": "[encoded data removed]"
          },
          "metadata": {
            "needs_background": "light"
          }
        }
      ]
    },
    {
      "cell_type": "markdown",
      "source": [
        "**با این قطعه کد ویژگی یا ستون اول دیتاست را که با پیش پردازشی که انجام دادیم شامل داده های خوش خیم و بدافزار از نوع رنسانویر میباشد را به انتهای دیتاست منتقل می کنیم تا به عنوان ستون لیبل ما برای اعمال الگوریتم های یادگیری ماشین باشد**"
      ],
      "metadata": {
        "id": "HdtnoZwmbBp9"
      }
    },
    {
      "cell_type": "code",
      "source": [
        "temp_cols=data0.columns.to_list()\n",
        "new_cols=temp_cols[1:] + temp_cols[0:1]\n",
        "data0=data0[new_cols]\n",
        "data0"
      ],
      "metadata": {
        "colab": {
          "base_uri": "https://localhost:8080/",
          "height": 575
        },
        "id": "1zuygtrLNCCv",
        "outputId": "ffd03230-fdce-4cec-f892-8aa652995059"
      },
      "execution_count": 87,
      "outputs": [
        {
          "output_type": "execute_result",
          "data": {
            "text/plain": [
              "       handles.nport  handles.nfile  handles.nevent  handles.ndesktop  \\\n",
              "0                  0            670            3161                46   \n",
              "1                  0            840            3761                51   \n",
              "2                  0           1050            3996                45   \n",
              "3                  0            630            2961                36   \n",
              "4                  0            908            3834                45   \n",
              "...              ...            ...             ...               ...   \n",
              "39084              0            665            2980                46   \n",
              "39085              0            662            2944                45   \n",
              "39086              0            653            2895                44   \n",
              "39087              0            652            2870                43   \n",
              "39088              0            651            2875                43   \n",
              "\n",
              "       handles.nkey  handles.nthread  handles.ndirectory  handles.nsemaphore  \\\n",
              "0               716              887                 104                 671   \n",
              "1              1011             1030                 117                 766   \n",
              "2               784             1241                 100                 645   \n",
              "3               654              792                  83                 567   \n",
              "4              1252              942                 103                 825   \n",
              "...             ...              ...                 ...                 ...   \n",
              "39084           696              713                 107                 616   \n",
              "39085           691              706                 106                 608   \n",
              "39086           709              677                 100                 606   \n",
              "39087           699              672                  98                 604   \n",
              "39088           699              671                  98                 604   \n",
              "\n",
              "       handles.ntimer  handles.nsection  ...  malfind.commitCharge  \\\n",
              "0                 125               184  ...                    21   \n",
              "1                 148               337  ...                    77   \n",
              "2                 138               369  ...                     6   \n",
              "3                 127               186  ...                     2   \n",
              "4                 135               375  ...                    77   \n",
              "...               ...               ...  ...                   ...   \n",
              "39084             123               179  ...                     4   \n",
              "39085             119               177  ...                     4   \n",
              "39086             116               164  ...                     4   \n",
              "39087             113               163  ...                     4   \n",
              "39088             113               162  ...                     4   \n",
              "\n",
              "       malfind.protection  malfind.uniqueInjections  \\\n",
              "0                      30                  1.250000   \n",
              "1                      72                  1.714286   \n",
              "2                      30                  1.250000   \n",
              "3                      12                  1.000000   \n",
              "4                      72                  2.000000   \n",
              "...                   ...                       ...   \n",
              "39084                  24                  1.000000   \n",
              "39085                  24                  1.000000   \n",
              "39086                  24                  1.000000   \n",
              "39087                  24                  1.000000   \n",
              "39088                  24                  1.000000   \n",
              "\n",
              "       psxview.not_in_pslist_false_avg  \\\n",
              "0                             0.042553   \n",
              "1                             0.000000   \n",
              "2                             0.000000   \n",
              "3                             0.000000   \n",
              "4                             0.086957   \n",
              "...                                ...   \n",
              "39084                         0.022727   \n",
              "39085                         0.045455   \n",
              "39086                         0.046512   \n",
              "39087                         0.069767   \n",
              "39088                         0.000000   \n",
              "\n",
              "       psxview.not_in_eprocess_pool_false_avg  \\\n",
              "0                                         0.0   \n",
              "1                                         0.0   \n",
              "2                                         0.0   \n",
              "3                                         0.0   \n",
              "4                                         0.0   \n",
              "...                                       ...   \n",
              "39084                                     0.0   \n",
              "39085                                     0.0   \n",
              "39086                                     0.0   \n",
              "39087                                     0.0   \n",
              "39088                                     0.0   \n",
              "\n",
              "       psxview.not_in_ethread_pool_false_avg  \\\n",
              "0                                   0.063830   \n",
              "1                                   0.000000   \n",
              "2                                   0.000000   \n",
              "3                                   0.000000   \n",
              "4                                   0.086957   \n",
              "...                                      ...   \n",
              "39084                               0.022727   \n",
              "39085                               0.045455   \n",
              "39086                               0.046512   \n",
              "39087                               0.069767   \n",
              "39088                               0.000000   \n",
              "\n",
              "       psxview.not_in_pspcid_list_false_avg  psxview.not_in_session_false_avg  \\\n",
              "0                                  0.042553                          0.085106   \n",
              "1                                  0.000000                          0.042553   \n",
              "2                                  0.000000                          0.050000   \n",
              "3                                  0.000000                          0.062500   \n",
              "4                                  0.086957                          0.130435   \n",
              "...                                     ...                               ...   \n",
              "39084                              0.022727                          0.068182   \n",
              "39085                              0.045455                          0.090909   \n",
              "39086                              0.046512                          0.093023   \n",
              "39087                              0.069767                          0.116279   \n",
              "39088                              0.000000                          0.050000   \n",
              "\n",
              "       psxview.not_in_deskthrd_false_avg          Category  \n",
              "0                               0.191489            Benign  \n",
              "1                               0.127660            Benign  \n",
              "2                               0.125000            Benign  \n",
              "3                               0.187500            Benign  \n",
              "4                               0.217391            Benign  \n",
              "...                                  ...               ...  \n",
              "39084                           0.159091  Ransomware-Shade  \n",
              "39085                           0.181818  Ransomware-Shade  \n",
              "39086                           0.186047  Ransomware-Shade  \n",
              "39087                           0.209302  Ransomware-Shade  \n",
              "39088                           0.150000  Ransomware-Shade  \n",
              "\n",
              "[39089 rows x 24 columns]"
            ],
            "text/html": [
              "\n",
              "  <div id=\"df-2b8581af-9741-4ae0-97a3-d5336fa252f2\">\n",
              "    <div class=\"colab-df-container\">\n",
              "      <div>\n",
              "<style scoped>\n",
              "    .dataframe tbody tr th:only-of-type {\n",
              "        vertical-align: middle;\n",
              "    }\n",
              "\n",
              "    .dataframe tbody tr th {\n",
              "        vertical-align: top;\n",
              "    }\n",
              "\n",
              "    .dataframe thead th {\n",
              "        text-align: right;\n",
              "    }\n",
              "</style>\n",
              "<table border=\"1\" class=\"dataframe\">\n",
              "  <thead>\n",
              "    <tr style=\"text-align: right;\">\n",
              "      <th></th>\n",
              "      <th>handles.nport</th>\n",
              "      <th>handles.nfile</th>\n",
              "      <th>handles.nevent</th>\n",
              "      <th>handles.ndesktop</th>\n",
              "      <th>handles.nkey</th>\n",
              "      <th>handles.nthread</th>\n",
              "      <th>handles.ndirectory</th>\n",
              "      <th>handles.nsemaphore</th>\n",
              "      <th>handles.ntimer</th>\n",
              "      <th>handles.nsection</th>\n",
              "      <th>...</th>\n",
              "      <th>malfind.commitCharge</th>\n",
              "      <th>malfind.protection</th>\n",
              "      <th>malfind.uniqueInjections</th>\n",
              "      <th>psxview.not_in_pslist_false_avg</th>\n",
              "      <th>psxview.not_in_eprocess_pool_false_avg</th>\n",
              "      <th>psxview.not_in_ethread_pool_false_avg</th>\n",
              "      <th>psxview.not_in_pspcid_list_false_avg</th>\n",
              "      <th>psxview.not_in_session_false_avg</th>\n",
              "      <th>psxview.not_in_deskthrd_false_avg</th>\n",
              "      <th>Category</th>\n",
              "    </tr>\n",
              "  </thead>\n",
              "  <tbody>\n",
              "    <tr>\n",
              "      <th>0</th>\n",
              "      <td>0</td>\n",
              "      <td>670</td>\n",
              "      <td>3161</td>\n",
              "      <td>46</td>\n",
              "      <td>716</td>\n",
              "      <td>887</td>\n",
              "      <td>104</td>\n",
              "      <td>671</td>\n",
              "      <td>125</td>\n",
              "      <td>184</td>\n",
              "      <td>...</td>\n",
              "      <td>21</td>\n",
              "      <td>30</td>\n",
              "      <td>1.250000</td>\n",
              "      <td>0.042553</td>\n",
              "      <td>0.0</td>\n",
              "      <td>0.063830</td>\n",
              "      <td>0.042553</td>\n",
              "      <td>0.085106</td>\n",
              "      <td>0.191489</td>\n",
              "      <td>Benign</td>\n",
              "    </tr>\n",
              "    <tr>\n",
              "      <th>1</th>\n",
              "      <td>0</td>\n",
              "      <td>840</td>\n",
              "      <td>3761</td>\n",
              "      <td>51</td>\n",
              "      <td>1011</td>\n",
              "      <td>1030</td>\n",
              "      <td>117</td>\n",
              "      <td>766</td>\n",
              "      <td>148</td>\n",
              "      <td>337</td>\n",
              "      <td>...</td>\n",
              "      <td>77</td>\n",
              "      <td>72</td>\n",
              "      <td>1.714286</td>\n",
              "      <td>0.000000</td>\n",
              "      <td>0.0</td>\n",
              "      <td>0.000000</td>\n",
              "      <td>0.000000</td>\n",
              "      <td>0.042553</td>\n",
              "      <td>0.127660</td>\n",
              "      <td>Benign</td>\n",
              "    </tr>\n",
              "    <tr>\n",
              "      <th>2</th>\n",
              "      <td>0</td>\n",
              "      <td>1050</td>\n",
              "      <td>3996</td>\n",
              "      <td>45</td>\n",
              "      <td>784</td>\n",
              "      <td>1241</td>\n",
              "      <td>100</td>\n",
              "      <td>645</td>\n",
              "      <td>138</td>\n",
              "      <td>369</td>\n",
              "      <td>...</td>\n",
              "      <td>6</td>\n",
              "      <td>30</td>\n",
              "      <td>1.250000</td>\n",
              "      <td>0.000000</td>\n",
              "      <td>0.0</td>\n",
              "      <td>0.000000</td>\n",
              "      <td>0.000000</td>\n",
              "      <td>0.050000</td>\n",
              "      <td>0.125000</td>\n",
              "      <td>Benign</td>\n",
              "    </tr>\n",
              "    <tr>\n",
              "      <th>3</th>\n",
              "      <td>0</td>\n",
              "      <td>630</td>\n",
              "      <td>2961</td>\n",
              "      <td>36</td>\n",
              "      <td>654</td>\n",
              "      <td>792</td>\n",
              "      <td>83</td>\n",
              "      <td>567</td>\n",
              "      <td>127</td>\n",
              "      <td>186</td>\n",
              "      <td>...</td>\n",
              "      <td>2</td>\n",
              "      <td>12</td>\n",
              "      <td>1.000000</td>\n",
              "      <td>0.000000</td>\n",
              "      <td>0.0</td>\n",
              "      <td>0.000000</td>\n",
              "      <td>0.000000</td>\n",
              "      <td>0.062500</td>\n",
              "      <td>0.187500</td>\n",
              "      <td>Benign</td>\n",
              "    </tr>\n",
              "    <tr>\n",
              "      <th>4</th>\n",
              "      <td>0</td>\n",
              "      <td>908</td>\n",
              "      <td>3834</td>\n",
              "      <td>45</td>\n",
              "      <td>1252</td>\n",
              "      <td>942</td>\n",
              "      <td>103</td>\n",
              "      <td>825</td>\n",
              "      <td>135</td>\n",
              "      <td>375</td>\n",
              "      <td>...</td>\n",
              "      <td>77</td>\n",
              "      <td>72</td>\n",
              "      <td>2.000000</td>\n",
              "      <td>0.086957</td>\n",
              "      <td>0.0</td>\n",
              "      <td>0.086957</td>\n",
              "      <td>0.086957</td>\n",
              "      <td>0.130435</td>\n",
              "      <td>0.217391</td>\n",
              "      <td>Benign</td>\n",
              "    </tr>\n",
              "    <tr>\n",
              "      <th>...</th>\n",
              "      <td>...</td>\n",
              "      <td>...</td>\n",
              "      <td>...</td>\n",
              "      <td>...</td>\n",
              "      <td>...</td>\n",
              "      <td>...</td>\n",
              "      <td>...</td>\n",
              "      <td>...</td>\n",
              "      <td>...</td>\n",
              "      <td>...</td>\n",
              "      <td>...</td>\n",
              "      <td>...</td>\n",
              "      <td>...</td>\n",
              "      <td>...</td>\n",
              "      <td>...</td>\n",
              "      <td>...</td>\n",
              "      <td>...</td>\n",
              "      <td>...</td>\n",
              "      <td>...</td>\n",
              "      <td>...</td>\n",
              "      <td>...</td>\n",
              "    </tr>\n",
              "    <tr>\n",
              "      <th>39084</th>\n",
              "      <td>0</td>\n",
              "      <td>665</td>\n",
              "      <td>2980</td>\n",
              "      <td>46</td>\n",
              "      <td>696</td>\n",
              "      <td>713</td>\n",
              "      <td>107</td>\n",
              "      <td>616</td>\n",
              "      <td>123</td>\n",
              "      <td>179</td>\n",
              "      <td>...</td>\n",
              "      <td>4</td>\n",
              "      <td>24</td>\n",
              "      <td>1.000000</td>\n",
              "      <td>0.022727</td>\n",
              "      <td>0.0</td>\n",
              "      <td>0.022727</td>\n",
              "      <td>0.022727</td>\n",
              "      <td>0.068182</td>\n",
              "      <td>0.159091</td>\n",
              "      <td>Ransomware-Shade</td>\n",
              "    </tr>\n",
              "    <tr>\n",
              "      <th>39085</th>\n",
              "      <td>0</td>\n",
              "      <td>662</td>\n",
              "      <td>2944</td>\n",
              "      <td>45</td>\n",
              "      <td>691</td>\n",
              "      <td>706</td>\n",
              "      <td>106</td>\n",
              "      <td>608</td>\n",
              "      <td>119</td>\n",
              "      <td>177</td>\n",
              "      <td>...</td>\n",
              "      <td>4</td>\n",
              "      <td>24</td>\n",
              "      <td>1.000000</td>\n",
              "      <td>0.045455</td>\n",
              "      <td>0.0</td>\n",
              "      <td>0.045455</td>\n",
              "      <td>0.045455</td>\n",
              "      <td>0.090909</td>\n",
              "      <td>0.181818</td>\n",
              "      <td>Ransomware-Shade</td>\n",
              "    </tr>\n",
              "    <tr>\n",
              "      <th>39086</th>\n",
              "      <td>0</td>\n",
              "      <td>653</td>\n",
              "      <td>2895</td>\n",
              "      <td>44</td>\n",
              "      <td>709</td>\n",
              "      <td>677</td>\n",
              "      <td>100</td>\n",
              "      <td>606</td>\n",
              "      <td>116</td>\n",
              "      <td>164</td>\n",
              "      <td>...</td>\n",
              "      <td>4</td>\n",
              "      <td>24</td>\n",
              "      <td>1.000000</td>\n",
              "      <td>0.046512</td>\n",
              "      <td>0.0</td>\n",
              "      <td>0.046512</td>\n",
              "      <td>0.046512</td>\n",
              "      <td>0.093023</td>\n",
              "      <td>0.186047</td>\n",
              "      <td>Ransomware-Shade</td>\n",
              "    </tr>\n",
              "    <tr>\n",
              "      <th>39087</th>\n",
              "      <td>0</td>\n",
              "      <td>652</td>\n",
              "      <td>2870</td>\n",
              "      <td>43</td>\n",
              "      <td>699</td>\n",
              "      <td>672</td>\n",
              "      <td>98</td>\n",
              "      <td>604</td>\n",
              "      <td>113</td>\n",
              "      <td>163</td>\n",
              "      <td>...</td>\n",
              "      <td>4</td>\n",
              "      <td>24</td>\n",
              "      <td>1.000000</td>\n",
              "      <td>0.069767</td>\n",
              "      <td>0.0</td>\n",
              "      <td>0.069767</td>\n",
              "      <td>0.069767</td>\n",
              "      <td>0.116279</td>\n",
              "      <td>0.209302</td>\n",
              "      <td>Ransomware-Shade</td>\n",
              "    </tr>\n",
              "    <tr>\n",
              "      <th>39088</th>\n",
              "      <td>0</td>\n",
              "      <td>651</td>\n",
              "      <td>2875</td>\n",
              "      <td>43</td>\n",
              "      <td>699</td>\n",
              "      <td>671</td>\n",
              "      <td>98</td>\n",
              "      <td>604</td>\n",
              "      <td>113</td>\n",
              "      <td>162</td>\n",
              "      <td>...</td>\n",
              "      <td>4</td>\n",
              "      <td>24</td>\n",
              "      <td>1.000000</td>\n",
              "      <td>0.000000</td>\n",
              "      <td>0.0</td>\n",
              "      <td>0.000000</td>\n",
              "      <td>0.000000</td>\n",
              "      <td>0.050000</td>\n",
              "      <td>0.150000</td>\n",
              "      <td>Ransomware-Shade</td>\n",
              "    </tr>\n",
              "  </tbody>\n",
              "</table>\n",
              "<p>39089 rows × 24 columns</p>\n",
              "</div>\n",
              "      <button class=\"colab-df-convert\" onclick=\"convertToInteractive('df-2b8581af-9741-4ae0-97a3-d5336fa252f2')\"\n",
              "              title=\"Convert this dataframe to an interactive table.\"\n",
              "              style=\"display:none;\">\n",
              "        \n",
              "  <svg xmlns=\"http://www.w3.org/2000/svg\" height=\"24px\"viewBox=\"0 0 24 24\"\n",
              "       width=\"24px\">\n",
              "    <path d=\"M0 0h24v24H0V0z\" fill=\"none\"/>\n",
              "    <path d=\"M18.56 5.44l.94 2.06.94-2.06 2.06-.94-2.06-.94-.94-2.06-.94 2.06-2.06.94zm-11 1L8.5 8.5l.94-2.06 2.06-.94-2.06-.94L8.5 2.5l-.94 2.06-2.06.94zm10 10l.94 2.06.94-2.06 2.06-.94-2.06-.94-.94-2.06-.94 2.06-2.06.94z\"/><path d=\"M17.41 7.96l-1.37-1.37c-.4-.4-.92-.59-1.43-.59-.52 0-1.04.2-1.43.59L10.3 9.45l-7.72 7.72c-.78.78-.78 2.05 0 2.83L4 21.41c.39.39.9.59 1.41.59.51 0 1.02-.2 1.41-.59l7.78-7.78 2.81-2.81c.8-.78.8-2.07 0-2.86zM5.41 20L4 18.59l7.72-7.72 1.47 1.35L5.41 20z\"/>\n",
              "  </svg>\n",
              "      </button>\n",
              "      \n",
              "  <style>\n",
              "    .colab-df-container {\n",
              "      display:flex;\n",
              "      flex-wrap:wrap;\n",
              "      gap: 12px;\n",
              "    }\n",
              "\n",
              "    .colab-df-convert {\n",
              "      background-color: #E8F0FE;\n",
              "      border: none;\n",
              "      border-radius: 50%;\n",
              "      cursor: pointer;\n",
              "      display: none;\n",
              "      fill: #1967D2;\n",
              "      height: 32px;\n",
              "      padding: 0 0 0 0;\n",
              "      width: 32px;\n",
              "    }\n",
              "\n",
              "    .colab-df-convert:hover {\n",
              "      background-color: #E2EBFA;\n",
              "      box-shadow: 0px 1px 2px rgba(60, 64, 67, 0.3), 0px 1px 3px 1px rgba(60, 64, 67, 0.15);\n",
              "      fill: #174EA6;\n",
              "    }\n",
              "\n",
              "    [theme=dark] .colab-df-convert {\n",
              "      background-color: #3B4455;\n",
              "      fill: #D2E3FC;\n",
              "    }\n",
              "\n",
              "    [theme=dark] .colab-df-convert:hover {\n",
              "      background-color: #434B5C;\n",
              "      box-shadow: 0px 1px 3px 1px rgba(0, 0, 0, 0.15);\n",
              "      filter: drop-shadow(0px 1px 2px rgba(0, 0, 0, 0.3));\n",
              "      fill: #FFFFFF;\n",
              "    }\n",
              "  </style>\n",
              "\n",
              "      <script>\n",
              "        const buttonEl =\n",
              "          document.querySelector('#df-2b8581af-9741-4ae0-97a3-d5336fa252f2 button.colab-df-convert');\n",
              "        buttonEl.style.display =\n",
              "          google.colab.kernel.accessAllowed ? 'block' : 'none';\n",
              "\n",
              "        async function convertToInteractive(key) {\n",
              "          const element = document.querySelector('#df-2b8581af-9741-4ae0-97a3-d5336fa252f2');\n",
              "          const dataTable =\n",
              "            await google.colab.kernel.invokeFunction('convertToInteractive',\n",
              "                                                     [key], {});\n",
              "          if (!dataTable) return;\n",
              "\n",
              "          const docLinkHtml = 'Like what you see? Visit the ' +\n",
              "            '<a target=\"_blank\" href=https://colab.research.google.com/notebooks/data_table.ipynb>data table notebook</a>'\n",
              "            + ' to learn more about interactive tables.';\n",
              "          element.innerHTML = '';\n",
              "          dataTable['output_type'] = 'display_data';\n",
              "          await google.colab.output.renderOutput(dataTable, element);\n",
              "          const docLink = document.createElement('div');\n",
              "          docLink.innerHTML = docLinkHtml;\n",
              "          element.appendChild(docLink);\n",
              "        }\n",
              "      </script>\n",
              "    </div>\n",
              "  </div>\n",
              "  "
            ]
          },
          "metadata": {},
          "execution_count": 87
        }
      ]
    },
    {
      "cell_type": "markdown",
      "source": [
        "**با انجام عمل مپ داده های غیر عددی خود را تبدیل به عدد می کنیم و ستون جدید تارگت را ایجاد می کنیم-هدف از ایجاد این کار بدست آوردن کورولیشن بین داده ها و راحتی کار با الگوریتم های یادگیری ماشین می باشد**"
      ],
      "metadata": {
        "id": "LCTI8N1kfLmd"
      }
    },
    {
      "cell_type": "code",
      "source": [
        "data0['target']=data0['Category'].map({'Benign':0,'Ransomware-Ako':1,'Ransomware-Conti':1,'Ransomware-Maze':1,'Ransomware-Pysa':1,'Ransomware-Shade':1})"
      ],
      "metadata": {
        "id": "VJmNgZM-NHvH"
      },
      "execution_count": 88,
      "outputs": []
    },
    {
      "cell_type": "code",
      "source": [
        "data0"
      ],
      "metadata": {
        "colab": {
          "base_uri": "https://localhost:8080/",
          "height": 575
        },
        "id": "DOBt4jxRNJEH",
        "outputId": "f22413ef-5687-4c80-d81a-77fdf4804a3e"
      },
      "execution_count": 89,
      "outputs": [
        {
          "output_type": "execute_result",
          "data": {
            "text/plain": [
              "       handles.nport  handles.nfile  handles.nevent  handles.ndesktop  \\\n",
              "0                  0            670            3161                46   \n",
              "1                  0            840            3761                51   \n",
              "2                  0           1050            3996                45   \n",
              "3                  0            630            2961                36   \n",
              "4                  0            908            3834                45   \n",
              "...              ...            ...             ...               ...   \n",
              "39084              0            665            2980                46   \n",
              "39085              0            662            2944                45   \n",
              "39086              0            653            2895                44   \n",
              "39087              0            652            2870                43   \n",
              "39088              0            651            2875                43   \n",
              "\n",
              "       handles.nkey  handles.nthread  handles.ndirectory  handles.nsemaphore  \\\n",
              "0               716              887                 104                 671   \n",
              "1              1011             1030                 117                 766   \n",
              "2               784             1241                 100                 645   \n",
              "3               654              792                  83                 567   \n",
              "4              1252              942                 103                 825   \n",
              "...             ...              ...                 ...                 ...   \n",
              "39084           696              713                 107                 616   \n",
              "39085           691              706                 106                 608   \n",
              "39086           709              677                 100                 606   \n",
              "39087           699              672                  98                 604   \n",
              "39088           699              671                  98                 604   \n",
              "\n",
              "       handles.ntimer  handles.nsection  ...  malfind.protection  \\\n",
              "0                 125               184  ...                  30   \n",
              "1                 148               337  ...                  72   \n",
              "2                 138               369  ...                  30   \n",
              "3                 127               186  ...                  12   \n",
              "4                 135               375  ...                  72   \n",
              "...               ...               ...  ...                 ...   \n",
              "39084             123               179  ...                  24   \n",
              "39085             119               177  ...                  24   \n",
              "39086             116               164  ...                  24   \n",
              "39087             113               163  ...                  24   \n",
              "39088             113               162  ...                  24   \n",
              "\n",
              "       malfind.uniqueInjections  psxview.not_in_pslist_false_avg  \\\n",
              "0                      1.250000                         0.042553   \n",
              "1                      1.714286                         0.000000   \n",
              "2                      1.250000                         0.000000   \n",
              "3                      1.000000                         0.000000   \n",
              "4                      2.000000                         0.086957   \n",
              "...                         ...                              ...   \n",
              "39084                  1.000000                         0.022727   \n",
              "39085                  1.000000                         0.045455   \n",
              "39086                  1.000000                         0.046512   \n",
              "39087                  1.000000                         0.069767   \n",
              "39088                  1.000000                         0.000000   \n",
              "\n",
              "       psxview.not_in_eprocess_pool_false_avg  \\\n",
              "0                                         0.0   \n",
              "1                                         0.0   \n",
              "2                                         0.0   \n",
              "3                                         0.0   \n",
              "4                                         0.0   \n",
              "...                                       ...   \n",
              "39084                                     0.0   \n",
              "39085                                     0.0   \n",
              "39086                                     0.0   \n",
              "39087                                     0.0   \n",
              "39088                                     0.0   \n",
              "\n",
              "       psxview.not_in_ethread_pool_false_avg  \\\n",
              "0                                   0.063830   \n",
              "1                                   0.000000   \n",
              "2                                   0.000000   \n",
              "3                                   0.000000   \n",
              "4                                   0.086957   \n",
              "...                                      ...   \n",
              "39084                               0.022727   \n",
              "39085                               0.045455   \n",
              "39086                               0.046512   \n",
              "39087                               0.069767   \n",
              "39088                               0.000000   \n",
              "\n",
              "       psxview.not_in_pspcid_list_false_avg  psxview.not_in_session_false_avg  \\\n",
              "0                                  0.042553                          0.085106   \n",
              "1                                  0.000000                          0.042553   \n",
              "2                                  0.000000                          0.050000   \n",
              "3                                  0.000000                          0.062500   \n",
              "4                                  0.086957                          0.130435   \n",
              "...                                     ...                               ...   \n",
              "39084                              0.022727                          0.068182   \n",
              "39085                              0.045455                          0.090909   \n",
              "39086                              0.046512                          0.093023   \n",
              "39087                              0.069767                          0.116279   \n",
              "39088                              0.000000                          0.050000   \n",
              "\n",
              "       psxview.not_in_deskthrd_false_avg          Category  target  \n",
              "0                               0.191489            Benign       0  \n",
              "1                               0.127660            Benign       0  \n",
              "2                               0.125000            Benign       0  \n",
              "3                               0.187500            Benign       0  \n",
              "4                               0.217391            Benign       0  \n",
              "...                                  ...               ...     ...  \n",
              "39084                           0.159091  Ransomware-Shade       1  \n",
              "39085                           0.181818  Ransomware-Shade       1  \n",
              "39086                           0.186047  Ransomware-Shade       1  \n",
              "39087                           0.209302  Ransomware-Shade       1  \n",
              "39088                           0.150000  Ransomware-Shade       1  \n",
              "\n",
              "[39089 rows x 25 columns]"
            ],
            "text/html": [
              "\n",
              "  <div id=\"df-0dda2def-c6d8-46aa-bdb4-a40961f6bf9a\">\n",
              "    <div class=\"colab-df-container\">\n",
              "      <div>\n",
              "<style scoped>\n",
              "    .dataframe tbody tr th:only-of-type {\n",
              "        vertical-align: middle;\n",
              "    }\n",
              "\n",
              "    .dataframe tbody tr th {\n",
              "        vertical-align: top;\n",
              "    }\n",
              "\n",
              "    .dataframe thead th {\n",
              "        text-align: right;\n",
              "    }\n",
              "</style>\n",
              "<table border=\"1\" class=\"dataframe\">\n",
              "  <thead>\n",
              "    <tr style=\"text-align: right;\">\n",
              "      <th></th>\n",
              "      <th>handles.nport</th>\n",
              "      <th>handles.nfile</th>\n",
              "      <th>handles.nevent</th>\n",
              "      <th>handles.ndesktop</th>\n",
              "      <th>handles.nkey</th>\n",
              "      <th>handles.nthread</th>\n",
              "      <th>handles.ndirectory</th>\n",
              "      <th>handles.nsemaphore</th>\n",
              "      <th>handles.ntimer</th>\n",
              "      <th>handles.nsection</th>\n",
              "      <th>...</th>\n",
              "      <th>malfind.protection</th>\n",
              "      <th>malfind.uniqueInjections</th>\n",
              "      <th>psxview.not_in_pslist_false_avg</th>\n",
              "      <th>psxview.not_in_eprocess_pool_false_avg</th>\n",
              "      <th>psxview.not_in_ethread_pool_false_avg</th>\n",
              "      <th>psxview.not_in_pspcid_list_false_avg</th>\n",
              "      <th>psxview.not_in_session_false_avg</th>\n",
              "      <th>psxview.not_in_deskthrd_false_avg</th>\n",
              "      <th>Category</th>\n",
              "      <th>target</th>\n",
              "    </tr>\n",
              "  </thead>\n",
              "  <tbody>\n",
              "    <tr>\n",
              "      <th>0</th>\n",
              "      <td>0</td>\n",
              "      <td>670</td>\n",
              "      <td>3161</td>\n",
              "      <td>46</td>\n",
              "      <td>716</td>\n",
              "      <td>887</td>\n",
              "      <td>104</td>\n",
              "      <td>671</td>\n",
              "      <td>125</td>\n",
              "      <td>184</td>\n",
              "      <td>...</td>\n",
              "      <td>30</td>\n",
              "      <td>1.250000</td>\n",
              "      <td>0.042553</td>\n",
              "      <td>0.0</td>\n",
              "      <td>0.063830</td>\n",
              "      <td>0.042553</td>\n",
              "      <td>0.085106</td>\n",
              "      <td>0.191489</td>\n",
              "      <td>Benign</td>\n",
              "      <td>0</td>\n",
              "    </tr>\n",
              "    <tr>\n",
              "      <th>1</th>\n",
              "      <td>0</td>\n",
              "      <td>840</td>\n",
              "      <td>3761</td>\n",
              "      <td>51</td>\n",
              "      <td>1011</td>\n",
              "      <td>1030</td>\n",
              "      <td>117</td>\n",
              "      <td>766</td>\n",
              "      <td>148</td>\n",
              "      <td>337</td>\n",
              "      <td>...</td>\n",
              "      <td>72</td>\n",
              "      <td>1.714286</td>\n",
              "      <td>0.000000</td>\n",
              "      <td>0.0</td>\n",
              "      <td>0.000000</td>\n",
              "      <td>0.000000</td>\n",
              "      <td>0.042553</td>\n",
              "      <td>0.127660</td>\n",
              "      <td>Benign</td>\n",
              "      <td>0</td>\n",
              "    </tr>\n",
              "    <tr>\n",
              "      <th>2</th>\n",
              "      <td>0</td>\n",
              "      <td>1050</td>\n",
              "      <td>3996</td>\n",
              "      <td>45</td>\n",
              "      <td>784</td>\n",
              "      <td>1241</td>\n",
              "      <td>100</td>\n",
              "      <td>645</td>\n",
              "      <td>138</td>\n",
              "      <td>369</td>\n",
              "      <td>...</td>\n",
              "      <td>30</td>\n",
              "      <td>1.250000</td>\n",
              "      <td>0.000000</td>\n",
              "      <td>0.0</td>\n",
              "      <td>0.000000</td>\n",
              "      <td>0.000000</td>\n",
              "      <td>0.050000</td>\n",
              "      <td>0.125000</td>\n",
              "      <td>Benign</td>\n",
              "      <td>0</td>\n",
              "    </tr>\n",
              "    <tr>\n",
              "      <th>3</th>\n",
              "      <td>0</td>\n",
              "      <td>630</td>\n",
              "      <td>2961</td>\n",
              "      <td>36</td>\n",
              "      <td>654</td>\n",
              "      <td>792</td>\n",
              "      <td>83</td>\n",
              "      <td>567</td>\n",
              "      <td>127</td>\n",
              "      <td>186</td>\n",
              "      <td>...</td>\n",
              "      <td>12</td>\n",
              "      <td>1.000000</td>\n",
              "      <td>0.000000</td>\n",
              "      <td>0.0</td>\n",
              "      <td>0.000000</td>\n",
              "      <td>0.000000</td>\n",
              "      <td>0.062500</td>\n",
              "      <td>0.187500</td>\n",
              "      <td>Benign</td>\n",
              "      <td>0</td>\n",
              "    </tr>\n",
              "    <tr>\n",
              "      <th>4</th>\n",
              "      <td>0</td>\n",
              "      <td>908</td>\n",
              "      <td>3834</td>\n",
              "      <td>45</td>\n",
              "      <td>1252</td>\n",
              "      <td>942</td>\n",
              "      <td>103</td>\n",
              "      <td>825</td>\n",
              "      <td>135</td>\n",
              "      <td>375</td>\n",
              "      <td>...</td>\n",
              "      <td>72</td>\n",
              "      <td>2.000000</td>\n",
              "      <td>0.086957</td>\n",
              "      <td>0.0</td>\n",
              "      <td>0.086957</td>\n",
              "      <td>0.086957</td>\n",
              "      <td>0.130435</td>\n",
              "      <td>0.217391</td>\n",
              "      <td>Benign</td>\n",
              "      <td>0</td>\n",
              "    </tr>\n",
              "    <tr>\n",
              "      <th>...</th>\n",
              "      <td>...</td>\n",
              "      <td>...</td>\n",
              "      <td>...</td>\n",
              "      <td>...</td>\n",
              "      <td>...</td>\n",
              "      <td>...</td>\n",
              "      <td>...</td>\n",
              "      <td>...</td>\n",
              "      <td>...</td>\n",
              "      <td>...</td>\n",
              "      <td>...</td>\n",
              "      <td>...</td>\n",
              "      <td>...</td>\n",
              "      <td>...</td>\n",
              "      <td>...</td>\n",
              "      <td>...</td>\n",
              "      <td>...</td>\n",
              "      <td>...</td>\n",
              "      <td>...</td>\n",
              "      <td>...</td>\n",
              "      <td>...</td>\n",
              "    </tr>\n",
              "    <tr>\n",
              "      <th>39084</th>\n",
              "      <td>0</td>\n",
              "      <td>665</td>\n",
              "      <td>2980</td>\n",
              "      <td>46</td>\n",
              "      <td>696</td>\n",
              "      <td>713</td>\n",
              "      <td>107</td>\n",
              "      <td>616</td>\n",
              "      <td>123</td>\n",
              "      <td>179</td>\n",
              "      <td>...</td>\n",
              "      <td>24</td>\n",
              "      <td>1.000000</td>\n",
              "      <td>0.022727</td>\n",
              "      <td>0.0</td>\n",
              "      <td>0.022727</td>\n",
              "      <td>0.022727</td>\n",
              "      <td>0.068182</td>\n",
              "      <td>0.159091</td>\n",
              "      <td>Ransomware-Shade</td>\n",
              "      <td>1</td>\n",
              "    </tr>\n",
              "    <tr>\n",
              "      <th>39085</th>\n",
              "      <td>0</td>\n",
              "      <td>662</td>\n",
              "      <td>2944</td>\n",
              "      <td>45</td>\n",
              "      <td>691</td>\n",
              "      <td>706</td>\n",
              "      <td>106</td>\n",
              "      <td>608</td>\n",
              "      <td>119</td>\n",
              "      <td>177</td>\n",
              "      <td>...</td>\n",
              "      <td>24</td>\n",
              "      <td>1.000000</td>\n",
              "      <td>0.045455</td>\n",
              "      <td>0.0</td>\n",
              "      <td>0.045455</td>\n",
              "      <td>0.045455</td>\n",
              "      <td>0.090909</td>\n",
              "      <td>0.181818</td>\n",
              "      <td>Ransomware-Shade</td>\n",
              "      <td>1</td>\n",
              "    </tr>\n",
              "    <tr>\n",
              "      <th>39086</th>\n",
              "      <td>0</td>\n",
              "      <td>653</td>\n",
              "      <td>2895</td>\n",
              "      <td>44</td>\n",
              "      <td>709</td>\n",
              "      <td>677</td>\n",
              "      <td>100</td>\n",
              "      <td>606</td>\n",
              "      <td>116</td>\n",
              "      <td>164</td>\n",
              "      <td>...</td>\n",
              "      <td>24</td>\n",
              "      <td>1.000000</td>\n",
              "      <td>0.046512</td>\n",
              "      <td>0.0</td>\n",
              "      <td>0.046512</td>\n",
              "      <td>0.046512</td>\n",
              "      <td>0.093023</td>\n",
              "      <td>0.186047</td>\n",
              "      <td>Ransomware-Shade</td>\n",
              "      <td>1</td>\n",
              "    </tr>\n",
              "    <tr>\n",
              "      <th>39087</th>\n",
              "      <td>0</td>\n",
              "      <td>652</td>\n",
              "      <td>2870</td>\n",
              "      <td>43</td>\n",
              "      <td>699</td>\n",
              "      <td>672</td>\n",
              "      <td>98</td>\n",
              "      <td>604</td>\n",
              "      <td>113</td>\n",
              "      <td>163</td>\n",
              "      <td>...</td>\n",
              "      <td>24</td>\n",
              "      <td>1.000000</td>\n",
              "      <td>0.069767</td>\n",
              "      <td>0.0</td>\n",
              "      <td>0.069767</td>\n",
              "      <td>0.069767</td>\n",
              "      <td>0.116279</td>\n",
              "      <td>0.209302</td>\n",
              "      <td>Ransomware-Shade</td>\n",
              "      <td>1</td>\n",
              "    </tr>\n",
              "    <tr>\n",
              "      <th>39088</th>\n",
              "      <td>0</td>\n",
              "      <td>651</td>\n",
              "      <td>2875</td>\n",
              "      <td>43</td>\n",
              "      <td>699</td>\n",
              "      <td>671</td>\n",
              "      <td>98</td>\n",
              "      <td>604</td>\n",
              "      <td>113</td>\n",
              "      <td>162</td>\n",
              "      <td>...</td>\n",
              "      <td>24</td>\n",
              "      <td>1.000000</td>\n",
              "      <td>0.000000</td>\n",
              "      <td>0.0</td>\n",
              "      <td>0.000000</td>\n",
              "      <td>0.000000</td>\n",
              "      <td>0.050000</td>\n",
              "      <td>0.150000</td>\n",
              "      <td>Ransomware-Shade</td>\n",
              "      <td>1</td>\n",
              "    </tr>\n",
              "  </tbody>\n",
              "</table>\n",
              "<p>39089 rows × 25 columns</p>\n",
              "</div>\n",
              "      <button class=\"colab-df-convert\" onclick=\"convertToInteractive('df-0dda2def-c6d8-46aa-bdb4-a40961f6bf9a')\"\n",
              "              title=\"Convert this dataframe to an interactive table.\"\n",
              "              style=\"display:none;\">\n",
              "        \n",
              "  <svg xmlns=\"http://www.w3.org/2000/svg\" height=\"24px\"viewBox=\"0 0 24 24\"\n",
              "       width=\"24px\">\n",
              "    <path d=\"M0 0h24v24H0V0z\" fill=\"none\"/>\n",
              "    <path d=\"M18.56 5.44l.94 2.06.94-2.06 2.06-.94-2.06-.94-.94-2.06-.94 2.06-2.06.94zm-11 1L8.5 8.5l.94-2.06 2.06-.94-2.06-.94L8.5 2.5l-.94 2.06-2.06.94zm10 10l.94 2.06.94-2.06 2.06-.94-2.06-.94-.94-2.06-.94 2.06-2.06.94z\"/><path d=\"M17.41 7.96l-1.37-1.37c-.4-.4-.92-.59-1.43-.59-.52 0-1.04.2-1.43.59L10.3 9.45l-7.72 7.72c-.78.78-.78 2.05 0 2.83L4 21.41c.39.39.9.59 1.41.59.51 0 1.02-.2 1.41-.59l7.78-7.78 2.81-2.81c.8-.78.8-2.07 0-2.86zM5.41 20L4 18.59l7.72-7.72 1.47 1.35L5.41 20z\"/>\n",
              "  </svg>\n",
              "      </button>\n",
              "      \n",
              "  <style>\n",
              "    .colab-df-container {\n",
              "      display:flex;\n",
              "      flex-wrap:wrap;\n",
              "      gap: 12px;\n",
              "    }\n",
              "\n",
              "    .colab-df-convert {\n",
              "      background-color: #E8F0FE;\n",
              "      border: none;\n",
              "      border-radius: 50%;\n",
              "      cursor: pointer;\n",
              "      display: none;\n",
              "      fill: #1967D2;\n",
              "      height: 32px;\n",
              "      padding: 0 0 0 0;\n",
              "      width: 32px;\n",
              "    }\n",
              "\n",
              "    .colab-df-convert:hover {\n",
              "      background-color: #E2EBFA;\n",
              "      box-shadow: 0px 1px 2px rgba(60, 64, 67, 0.3), 0px 1px 3px 1px rgba(60, 64, 67, 0.15);\n",
              "      fill: #174EA6;\n",
              "    }\n",
              "\n",
              "    [theme=dark] .colab-df-convert {\n",
              "      background-color: #3B4455;\n",
              "      fill: #D2E3FC;\n",
              "    }\n",
              "\n",
              "    [theme=dark] .colab-df-convert:hover {\n",
              "      background-color: #434B5C;\n",
              "      box-shadow: 0px 1px 3px 1px rgba(0, 0, 0, 0.15);\n",
              "      filter: drop-shadow(0px 1px 2px rgba(0, 0, 0, 0.3));\n",
              "      fill: #FFFFFF;\n",
              "    }\n",
              "  </style>\n",
              "\n",
              "      <script>\n",
              "        const buttonEl =\n",
              "          document.querySelector('#df-0dda2def-c6d8-46aa-bdb4-a40961f6bf9a button.colab-df-convert');\n",
              "        buttonEl.style.display =\n",
              "          google.colab.kernel.accessAllowed ? 'block' : 'none';\n",
              "\n",
              "        async function convertToInteractive(key) {\n",
              "          const element = document.querySelector('#df-0dda2def-c6d8-46aa-bdb4-a40961f6bf9a');\n",
              "          const dataTable =\n",
              "            await google.colab.kernel.invokeFunction('convertToInteractive',\n",
              "                                                     [key], {});\n",
              "          if (!dataTable) return;\n",
              "\n",
              "          const docLinkHtml = 'Like what you see? Visit the ' +\n",
              "            '<a target=\"_blank\" href=https://colab.research.google.com/notebooks/data_table.ipynb>data table notebook</a>'\n",
              "            + ' to learn more about interactive tables.';\n",
              "          element.innerHTML = '';\n",
              "          dataTable['output_type'] = 'display_data';\n",
              "          await google.colab.output.renderOutput(dataTable, element);\n",
              "          const docLink = document.createElement('div');\n",
              "          docLink.innerHTML = docLinkHtml;\n",
              "          element.appendChild(docLink);\n",
              "        }\n",
              "      </script>\n",
              "    </div>\n",
              "  </div>\n",
              "  "
            ]
          },
          "metadata": {},
          "execution_count": 89
        }
      ]
    },
    {
      "cell_type": "markdown",
      "source": [
        "** *italicized text*تعداد خوش خیم و بدافزار**"
      ],
      "metadata": {
        "id": "_n7vK7dQ2xRC"
      }
    },
    {
      "cell_type": "code",
      "source": [
        "data0['Category'].dtypes"
      ],
      "metadata": {
        "colab": {
          "base_uri": "https://localhost:8080/"
        },
        "id": "ymcG9E6hNTCw",
        "outputId": "43686518-9ee2-49a9-c5a3-351e01729f5a"
      },
      "execution_count": 90,
      "outputs": [
        {
          "output_type": "execute_result",
          "data": {
            "text/plain": [
              "dtype('O')"
            ]
          },
          "metadata": {},
          "execution_count": 90
        }
      ]
    },
    {
      "cell_type": "code",
      "source": [
        "data0['target'].dtypes"
      ],
      "metadata": {
        "colab": {
          "base_uri": "https://localhost:8080/"
        },
        "id": "Fx_BuuRTNWh3",
        "outputId": "a707044c-0aeb-4a66-8f8c-a10bd5837db4"
      },
      "execution_count": 91,
      "outputs": [
        {
          "output_type": "execute_result",
          "data": {
            "text/plain": [
              "dtype('int64')"
            ]
          },
          "metadata": {},
          "execution_count": 91
        }
      ]
    },
    {
      "cell_type": "code",
      "source": [
        "total=len(data0)\n",
        "Benign=len(data0[data0['target']==0])\n",
        "Ransomware=len(data0[data0['target']==1])"
      ],
      "metadata": {
        "id": "iXp9F_6myJhc"
      },
      "execution_count": 92,
      "outputs": []
    },
    {
      "cell_type": "code",
      "source": [
        "print('total Target=',total)\n",
        "print('total Benign=',Benign)\n",
        "print('total Ransanware=',Ransomware)"
      ],
      "metadata": {
        "colab": {
          "base_uri": "https://localhost:8080/"
        },
        "id": "D6aRkZmnzpn6",
        "outputId": "5d392c29-ee89-4a00-b44e-2f43900b5022"
      },
      "execution_count": 93,
      "outputs": [
        {
          "output_type": "stream",
          "name": "stdout",
          "text": [
            "total Target= 39089\n",
            "total Benign= 29298\n",
            "total Ransanware= 9791\n"
          ]
        }
      ]
    },
    {
      "cell_type": "markdown",
      "source": [
        "**تعداد بر اساس درصد**"
      ],
      "metadata": {
        "id": "kdtqNoyF2Vsr"
      }
    },
    {
      "cell_type": "code",
      "source": [
        "print('%Benign= ', 1.* Benign/total*100)\n",
        "print('%Ransomware= ', 1.* Ransomware/total*100)"
      ],
      "metadata": {
        "colab": {
          "base_uri": "https://localhost:8080/"
        },
        "id": "qlVm3frb1fji",
        "outputId": "5babcf71-1436-4fb4-d105-af6fcc027fa3"
      },
      "execution_count": 94,
      "outputs": [
        {
          "output_type": "stream",
          "name": "stdout",
          "text": [
            "%Benign=  74.9520325411241\n",
            "%Ransomware=  25.047967458875895\n"
          ]
        }
      ]
    },
    {
      "cell_type": "code",
      "source": [
        "sns.countplot(data0[\"target\"])\n",
        "plt.xticks(rotation=90)\n",
        "plt.tight_layout()\n",
        "plt.show()"
      ],
      "metadata": {
        "colab": {
          "base_uri": "https://localhost:8080/",
          "height": 297
        },
        "id": "sdMDvNPE0KFz",
        "outputId": "c5069bc4-245d-429c-f0cc-bc564110ce02"
      },
      "execution_count": 95,
      "outputs": [
        {
          "output_type": "display_data",
          "data": {
            "text/plain": [
              "<Figure size 432x288 with 1 Axes>"
            ],
            "image/png": "[encoded data removed]"
          },
          "metadata": {
            "needs_background": "light"
          }
        }
      ]
    },
    {
      "cell_type": "markdown",
      "source": [
        "**بدست آوردن کورولیشن بین داده ها از کم به زیاد**"
      ],
      "metadata": {
        "id": "kD_4Be35fkqQ"
      }
    },
    {
      "cell_type": "code",
      "source": [
        "data0.corr()['target'].sort_values()"
      ],
      "metadata": {
        "colab": {
          "base_uri": "https://localhost:8080/"
        },
        "id": "VPWKjy-cN74T",
        "outputId": "3a13a98a-f8c4-4736-852f-0960c4d134d6"
      },
      "execution_count": 96,
      "outputs": [
        {
          "output_type": "execute_result",
          "data": {
            "text/plain": [
              "handles.nsection                         -0.869143\n",
              "handles.nevent                           -0.819901\n",
              "handles.nthread                          -0.808711\n",
              "handles.nmutant                          -0.786450\n",
              "handles.ntimer                           -0.768331\n",
              "handles.nsemaphore                       -0.727063\n",
              "handles.nkey                             -0.653503\n",
              "handles.ndesktop                         -0.335857\n",
              "ldrmodules.not_in_load_avg               -0.301804\n",
              "ldrmodules.not_in_mem_avg                -0.301436\n",
              "handles.ndirectory                       -0.263069\n",
              "ldrmodules.not_in_init_avg               -0.026889\n",
              "handles.nfile                            -0.022465\n",
              "psxview.not_in_eprocess_pool_false_avg   -0.002369\n",
              "psxview.not_in_pslist_false_avg           0.028825\n",
              "psxview.not_in_pspcid_list_false_avg      0.031857\n",
              "psxview.not_in_session_false_avg          0.046585\n",
              "psxview.not_in_ethread_pool_false_avg     0.054463\n",
              "psxview.not_in_deskthrd_false_avg         0.134400\n",
              "malfind.protection                        0.207691\n",
              "malfind.uniqueInjections                  0.212878\n",
              "malfind.commitCharge                      0.263111\n",
              "target                                    1.000000\n",
              "handles.nport                                  NaN\n",
              "Name: target, dtype: float64"
            ]
          },
          "metadata": {},
          "execution_count": 96
        }
      ]
    },
    {
      "cell_type": "markdown",
      "source": [
        "**نمایش همبستگی بین ویژگی ها**"
      ],
      "metadata": {
        "id": "86pecfRly-ZB"
      }
    },
    {
      "cell_type": "code",
      "source": [
        "plt.figure(figsize=(20,10))\n",
        "sns.heatmap(data0.corr(),annot=True)"
      ],
      "metadata": {
        "colab": {
          "base_uri": "https://localhost:8080/",
          "height": 491
        },
        "id": "p-5O1wSmw6-9",
        "outputId": "04d994ff-c580-46f1-8ca6-5b8b0d8bcaed"
      },
      "execution_count": 97,
      "outputs": [
        {
          "output_type": "execute_result",
          "data": {
            "text/plain": [
              "<matplotlib.axes._subplots.AxesSubplot at 0x7f01e32252d0>"
            ]
          },
          "metadata": {},
          "execution_count": 97
        },
        {
          "output_type": "display_data",
          "data": {
            "text/plain": [
              "<Figure size 1440x720 with 2 Axes>"
            ],
            "image/png": "[encoded data removed]"
          },
          "metadata": {
            "needs_background": "light"
          }
        }
      ]
    },
    {
      "cell_type": "markdown",
      "source": [
        "***شروع اعمال الگوریتم های یادگیری ماشین***"
      ],
      "metadata": {
        "id": "uWqR5Taufsfx"
      }
    },
    {
      "cell_type": "code",
      "source": [
        "from sklearn.model_selection import train_test_split"
      ],
      "metadata": {
        "id": "eTeCmBpYPKQp"
      },
      "execution_count": 98,
      "outputs": []
    },
    {
      "cell_type": "code",
      "source": [
        "x=data0.drop(['Category','target'],axis=1)\n",
        "y=data0['target']"
      ],
      "metadata": {
        "id": "HZXaI1TnOliR"
      },
      "execution_count": 99,
      "outputs": []
    },
    {
      "cell_type": "code",
      "source": [
        "x_train,x_test,y_train,y_test=train_test_split(x,y,test_size=.3,random_state=102)"
      ],
      "metadata": {
        "id": "kDDpM3OnQDXi"
      },
      "execution_count": 100,
      "outputs": []
    },
    {
      "cell_type": "code",
      "source": [
        "from sklearn.neighbors import KNeighborsClassifier\n",
        "from sklearn.linear_model import LogisticRegression\n",
        "from sklearn.tree import DecisionTreeClassifier\n",
        "from sklearn.ensemble import RandomForestClassifier\n",
        "from sklearn.linear_model import SGDClassifier\n",
        "from sklearn import linear_model\n",
        "from sklearn.metrics import roc_auc_score\n",
        "from sklearn.metrics import accuracy_score\n",
        "from sklearn.metrics import confusion_matrix,classification_report\n",
        "\n",
        "\n"
      ],
      "metadata": {
        "id": "d6z8WvaBRrdE"
      },
      "execution_count": 101,
      "outputs": []
    },
    {
      "cell_type": "code",
      "source": [
        "from sklearn.metrics import plot_roc_curve\n",
        " "
      ],
      "metadata": {
        "id": "CNnz52NEB4fL"
      },
      "execution_count": 102,
      "outputs": []
    },
    {
      "cell_type": "markdown",
      "source": [
        "**knn پیاده سازی الگوریتم **"
      ],
      "metadata": {
        "id": "3yb9y7MftiJ7"
      }
    },
    {
      "cell_type": "code",
      "source": [
        "knn=KNeighborsClassifier(n_neighbors=5)\n",
        "clf=knn.fit(x_train,y_train)\n",
        "y_pred=clf.predict(x_test)\n",
        "acc_knb_model=roc_auc_score(y_test,y_pred)*100\n",
        "acc_knb_model"
      ],
      "metadata": {
        "colab": {
          "base_uri": "https://localhost:8080/"
        },
        "id": "ncZ6pbfaRvGK",
        "outputId": "4b1ae763-bf54-42f1-8719-ac97037e3ae8"
      },
      "execution_count": 103,
      "outputs": [
        {
          "output_type": "execute_result",
          "data": {
            "text/plain": [
              "99.81123908367961"
            ]
          },
          "metadata": {},
          "execution_count": 103
        }
      ]
    },
    {
      "cell_type": "code",
      "source": [
        "cm=confusion_matrix(y_test,y_pred)\n"
      ],
      "metadata": {
        "id": "lb6ibi5IscOq"
      },
      "execution_count": 104,
      "outputs": []
    },
    {
      "cell_type": "code",
      "source": [
        "sns.heatmap(cm,annot=True,fmt='d')"
      ],
      "metadata": {
        "colab": {
          "base_uri": "https://localhost:8080/",
          "height": 282
        },
        "outputId": "bac31c63-e9f2-4a8d-895b-fe8f165f7262",
        "id": "hLxDdJ0esqQe"
      },
      "execution_count": 105,
      "outputs": [
        {
          "output_type": "execute_result",
          "data": {
            "text/plain": [
              "<matplotlib.axes._subplots.AxesSubplot at 0x7f01dd21d810>"
            ]
          },
          "metadata": {},
          "execution_count": 105
        },
        {
          "output_type": "display_data",
          "data": {
            "text/plain": [
              "<Figure size 432x288 with 2 Axes>"
            ],
            "image/png": "[encoded data removed]"
          },
          "metadata": {
            "needs_background": "light"
          }
        }
      ]
    },
    {
      "cell_type": "code",
      "source": [
        "print(classification_report(y_test,y_pred))"
      ],
      "metadata": {
        "colab": {
          "base_uri": "https://localhost:8080/"
        },
        "outputId": "1535cd69-c93d-4d96-92e6-f3458066142c",
        "id": "Vzw4l42RtO1R"
      },
      "execution_count": 106,
      "outputs": [
        {
          "output_type": "stream",
          "name": "stdout",
          "text": [
            "              precision    recall  f1-score   support\n",
            "\n",
            "           0       1.00      1.00      1.00      8722\n",
            "           1       1.00      1.00      1.00      3005\n",
            "\n",
            "    accuracy                           1.00     11727\n",
            "   macro avg       1.00      1.00      1.00     11727\n",
            "weighted avg       1.00      1.00      1.00     11727\n",
            "\n"
          ]
        }
      ]
    },
    {
      "cell_type": "code",
      "source": [
        "plot_roc_curve(knn,x_test,y_test)"
      ],
      "metadata": {
        "colab": {
          "base_uri": "https://localhost:8080/",
          "height": 296
        },
        "id": "IVTYyrOttVnu",
        "outputId": "c35f1113-5f4d-486e-dcc7-35e6788e43f8"
      },
      "execution_count": 107,
      "outputs": [
        {
          "output_type": "execute_result",
          "data": {
            "text/plain": [
              "<sklearn.metrics._plot.roc_curve.RocCurveDisplay at 0x7f01e45eb610>"
            ]
          },
          "metadata": {},
          "execution_count": 107
        },
        {
          "output_type": "display_data",
          "data": {
            "text/plain": [
              "<Figure size 432x288 with 1 Axes>"
            ],
            "image/png": "[encoded data removed]"
          },
          "metadata": {
            "needs_background": "light"
          }
        }
      ]
    },
    {
      "cell_type": "markdown",
      "source": [
        "**Logistic Regression سازی الگوریتم **"
      ],
      "metadata": {
        "id": "YcLVlvoutsv6"
      }
    },
    {
      "cell_type": "code",
      "source": [
        "lr=LogisticRegression(C=0.3)\n",
        "clfl=lr.fit(x_train,y_train)\n",
        "y_predl=clfl.predict(x_test)\n",
        "acc_log_reg=roc_auc_score(y_test,y_predl)*100\n",
        "acc_log_reg"
      ],
      "metadata": {
        "colab": {
          "base_uri": "https://localhost:8080/"
        },
        "id": "99N6lsiZSBsA",
        "outputId": "09d4a6de-18d9-415f-e767-ee0732732a36"
      },
      "execution_count": 108,
      "outputs": [
        {
          "output_type": "execute_result",
          "data": {
            "text/plain": [
              "99.7607633230712"
            ]
          },
          "metadata": {},
          "execution_count": 108
        }
      ]
    },
    {
      "cell_type": "code",
      "source": [
        "cm=confusion_matrix(y_test,y_predl)\n",
        "sns.heatmap(cm,annot=True,fmt='d')\n"
      ],
      "metadata": {
        "colab": {
          "base_uri": "https://localhost:8080/",
          "height": 282
        },
        "id": "IANm6Yg9t6nk",
        "outputId": "9a966acb-8722-4543-9c08-aaced5265682"
      },
      "execution_count": 109,
      "outputs": [
        {
          "output_type": "execute_result",
          "data": {
            "text/plain": [
              "<matplotlib.axes._subplots.AxesSubplot at 0x7f01e62c9bd0>"
            ]
          },
          "metadata": {},
          "execution_count": 109
        },
        {
          "output_type": "display_data",
          "data": {
            "text/plain": [
              "<Figure size 432x288 with 2 Axes>"
            ],
            "image/png": "[encoded data removed]"
          },
          "metadata": {
            "needs_background": "light"
          }
        }
      ]
    },
    {
      "cell_type": "code",
      "source": [
        "print(classification_report(y_test,y_predl))"
      ],
      "metadata": {
        "colab": {
          "base_uri": "https://localhost:8080/"
        },
        "id": "WJLtSTLFuOeU",
        "outputId": "23f67d76-8135-4585-bebf-2bdfaa902996"
      },
      "execution_count": 110,
      "outputs": [
        {
          "output_type": "stream",
          "name": "stdout",
          "text": [
            "              precision    recall  f1-score   support\n",
            "\n",
            "           0       1.00      1.00      1.00      8722\n",
            "           1       1.00      1.00      1.00      3005\n",
            "\n",
            "    accuracy                           1.00     11727\n",
            "   macro avg       1.00      1.00      1.00     11727\n",
            "weighted avg       1.00      1.00      1.00     11727\n",
            "\n"
          ]
        }
      ]
    },
    {
      "cell_type": "code",
      "source": [
        "plot_roc_curve(lr,x_test,y_test)"
      ],
      "metadata": {
        "colab": {
          "base_uri": "https://localhost:8080/",
          "height": 296
        },
        "id": "FiwR7MdTvEby",
        "outputId": "67f448e1-877f-47b8-8b92-889f8d76f6ed"
      },
      "execution_count": 111,
      "outputs": [
        {
          "output_type": "execute_result",
          "data": {
            "text/plain": [
              "<sklearn.metrics._plot.roc_curve.RocCurveDisplay at 0x7f01e34228d0>"
            ]
          },
          "metadata": {},
          "execution_count": 111
        },
        {
          "output_type": "display_data",
          "data": {
            "text/plain": [
              "<Figure size 432x288 with 1 Axes>"
            ],
            "image/png": "[encoded data removed]"
          },
          "metadata": {
            "needs_background": "light"
          }
        }
      ]
    },
    {
      "cell_type": "markdown",
      "source": [
        "**DecisionTreeپیاده سازی الگوریتم **"
      ],
      "metadata": {
        "id": "w6UOI77EvRqF"
      }
    },
    {
      "cell_type": "code",
      "source": [
        "clf3=DecisionTreeClassifier().fit(x_train,y_train)\n",
        "y_pred3=clf3.predict(x_test)\n",
        "acc_dt=roc_auc_score(y_test,y_predl)*100\n",
        "acc_dt"
      ],
      "metadata": {
        "colab": {
          "base_uri": "https://localhost:8080/"
        },
        "id": "kF5bbahjSNk0",
        "outputId": "04094cc0-1f3c-4ebb-c1d1-9a0f044b8c55"
      },
      "execution_count": 112,
      "outputs": [
        {
          "output_type": "execute_result",
          "data": {
            "text/plain": [
              "99.7607633230712"
            ]
          },
          "metadata": {},
          "execution_count": 112
        }
      ]
    },
    {
      "cell_type": "code",
      "source": [
        "cm=confusion_matrix(y_test,y_pred3)\n",
        "sns.heatmap(cm,annot=True,fmt='d')"
      ],
      "metadata": {
        "colab": {
          "base_uri": "https://localhost:8080/",
          "height": 282
        },
        "id": "Yqp3NoEKvaIW",
        "outputId": "65a69784-e409-4ec7-e172-14b8d4df3bf8"
      },
      "execution_count": 113,
      "outputs": [
        {
          "output_type": "execute_result",
          "data": {
            "text/plain": [
              "<matplotlib.axes._subplots.AxesSubplot at 0x7f01e499e510>"
            ]
          },
          "metadata": {},
          "execution_count": 113
        },
        {
          "output_type": "display_data",
          "data": {
            "text/plain": [
              "<Figure size 432x288 with 2 Axes>"
            ],
            "image/png": "[encoded data removed]"
          },
          "metadata": {
            "needs_background": "light"
          }
        }
      ]
    },
    {
      "cell_type": "code",
      "source": [
        "print(classification_report(y_test,y_pred3))"
      ],
      "metadata": {
        "colab": {
          "base_uri": "https://localhost:8080/"
        },
        "id": "tGG052puvg88",
        "outputId": "0e668075-c002-4dff-f818-33863be8f962"
      },
      "execution_count": 114,
      "outputs": [
        {
          "output_type": "stream",
          "name": "stdout",
          "text": [
            "              precision    recall  f1-score   support\n",
            "\n",
            "           0       1.00      1.00      1.00      8722\n",
            "           1       1.00      1.00      1.00      3005\n",
            "\n",
            "    accuracy                           1.00     11727\n",
            "   macro avg       1.00      1.00      1.00     11727\n",
            "weighted avg       1.00      1.00      1.00     11727\n",
            "\n"
          ]
        }
      ]
    },
    {
      "cell_type": "code",
      "source": [
        "plot_roc_curve(clf3,x_test,y_test)"
      ],
      "metadata": {
        "colab": {
          "base_uri": "https://localhost:8080/",
          "height": 296
        },
        "id": "gV5mJBCxvrvQ",
        "outputId": "864fc1b1-f336-48c7-ab73-ec187b9ec7fe"
      },
      "execution_count": 115,
      "outputs": [
        {
          "output_type": "execute_result",
          "data": {
            "text/plain": [
              "<sklearn.metrics._plot.roc_curve.RocCurveDisplay at 0x7f01e4e51d90>"
            ]
          },
          "metadata": {},
          "execution_count": 115
        },
        {
          "output_type": "display_data",
          "data": {
            "text/plain": [
              "<Figure size 432x288 with 1 Axes>"
            ],
            "image/png": "[encoded data removed]"
          },
          "metadata": {
            "needs_background": "light"
          }
        }
      ]
    },
    {
      "cell_type": "markdown",
      "source": [
        "** RandomForestپیاده سازی الگوریتم **"
      ],
      "metadata": {
        "id": "MOcuvFm3v1-U"
      }
    },
    {
      "cell_type": "code",
      "source": [
        "clf4=RandomForestClassifier(max_depth=9,random_state=0).fit(x_train,y_train)\n",
        "y_pred4=clf4.predict(x_test)\n",
        "acc_rmf_model=roc_auc_score(y_test,y_pred4) * 100\n",
        "acc_rmf_model"
      ],
      "metadata": {
        "colab": {
          "base_uri": "https://localhost:8080/"
        },
        "id": "2X891tisSRDP",
        "outputId": "46b0622b-1290-4978-c491-365617842014"
      },
      "execution_count": 116,
      "outputs": [
        {
          "output_type": "execute_result",
          "data": {
            "text/plain": [
              "99.92771162943667"
            ]
          },
          "metadata": {},
          "execution_count": 116
        }
      ]
    },
    {
      "cell_type": "code",
      "source": [
        "cm=confusion_matrix(y_test,y_pred4)\n",
        "sns.heatmap(cm,annot=True,fmt='d')"
      ],
      "metadata": {
        "colab": {
          "base_uri": "https://localhost:8080/",
          "height": 282
        },
        "id": "hkya-f_jwsM1",
        "outputId": "f85d29a1-8f27-4df7-e712-9bc7f05ff517"
      },
      "execution_count": 117,
      "outputs": [
        {
          "output_type": "execute_result",
          "data": {
            "text/plain": [
              "<matplotlib.axes._subplots.AxesSubplot at 0x7f01e42a0ed0>"
            ]
          },
          "metadata": {},
          "execution_count": 117
        },
        {
          "output_type": "display_data",
          "data": {
            "text/plain": [
              "<Figure size 432x288 with 2 Axes>"
            ],
            "image/png": "[encoded data removed]"
          },
          "metadata": {
            "needs_background": "light"
          }
        }
      ]
    },
    {
      "cell_type": "code",
      "source": [
        "print(classification_report(y_test,y_pred4))"
      ],
      "metadata": {
        "colab": {
          "base_uri": "https://localhost:8080/"
        },
        "id": "sUNU2e8Gw0F-",
        "outputId": "0f8c44e4-60db-443b-a0f3-78bfed8964d7"
      },
      "execution_count": 118,
      "outputs": [
        {
          "output_type": "stream",
          "name": "stdout",
          "text": [
            "              precision    recall  f1-score   support\n",
            "\n",
            "           0       1.00      1.00      1.00      8722\n",
            "           1       1.00      1.00      1.00      3005\n",
            "\n",
            "    accuracy                           1.00     11727\n",
            "   macro avg       1.00      1.00      1.00     11727\n",
            "weighted avg       1.00      1.00      1.00     11727\n",
            "\n"
          ]
        }
      ]
    },
    {
      "cell_type": "code",
      "source": [
        "plot_roc_curve(clf4,x_test,y_test)"
      ],
      "metadata": {
        "colab": {
          "base_uri": "https://localhost:8080/",
          "height": 296
        },
        "id": "-hNq033Uw9pV",
        "outputId": "b0f63cd8-e153-4bb6-c07b-f650576d2a25"
      },
      "execution_count": 119,
      "outputs": [
        {
          "output_type": "execute_result",
          "data": {
            "text/plain": [
              "<sklearn.metrics._plot.roc_curve.RocCurveDisplay at 0x7f01e3696b10>"
            ]
          },
          "metadata": {},
          "execution_count": 119
        },
        {
          "output_type": "display_data",
          "data": {
            "text/plain": [
              "<Figure size 432x288 with 1 Axes>"
            ],
            "image/png": "[encoded data removed]"
          },
          "metadata": {
            "needs_background": "light"
          }
        }
      ]
    },
    {
      "cell_type": "markdown",
      "source": [
        "**SGD پیاده سازی الگوریتم **"
      ],
      "metadata": {
        "id": "Zuaxee1Dyvmp"
      }
    },
    {
      "cell_type": "code",
      "source": [
        "#from re import S\n",
        "sgd_model=SGDClassifier()\n",
        "sgd_model.fit(x_train,y_train)\n",
        "sgd_pred=sgd_model.predict(x_test)\n",
        "acc_sgd_model=roc_auc_score(y_test,sgd_pred)*100\n",
        "#acc_sgd=round(sgd_model.score(x_train,y_train)*100.10)\n",
        "acc_sgd_model"
      ],
      "metadata": {
        "colab": {
          "base_uri": "https://localhost:8080/"
        },
        "id": "keomhBPqSWgb",
        "outputId": "fa8abd79-b1fa-4d5c-dd8c-519a0c041f69"
      },
      "execution_count": 120,
      "outputs": [
        {
          "output_type": "execute_result",
          "data": {
            "text/plain": [
              "98.66259360593308"
            ]
          },
          "metadata": {},
          "execution_count": 120
        }
      ]
    },
    {
      "cell_type": "code",
      "source": [
        "cm=confusion_matrix(y_test,sgd_pred)\n",
        "sns.heatmap(cm,annot=True,fmt='d')"
      ],
      "metadata": {
        "colab": {
          "base_uri": "https://localhost:8080/",
          "height": 282
        },
        "id": "PnzYqSJ9y7gg",
        "outputId": "ea182ba8-9845-4c3c-e1c4-11ee8898c08a"
      },
      "execution_count": 121,
      "outputs": [
        {
          "output_type": "execute_result",
          "data": {
            "text/plain": [
              "<matplotlib.axes._subplots.AxesSubplot at 0x7f01e3da1fd0>"
            ]
          },
          "metadata": {},
          "execution_count": 121
        },
        {
          "output_type": "display_data",
          "data": {
            "text/plain": [
              "<Figure size 432x288 with 2 Axes>"
            ],
            "image/png": "[encoded data removed]"
          },
          "metadata": {
            "needs_background": "light"
          }
        }
      ]
    },
    {
      "cell_type": "code",
      "source": [
        "plot_roc_curve(clf4,x_test,sgd_pred)"
      ],
      "metadata": {
        "colab": {
          "base_uri": "https://localhost:8080/",
          "height": 296
        },
        "outputId": "8f284759-e843-4f94-db50-ded5443d5934",
        "id": "tkSfbdKW2Ilr"
      },
      "execution_count": 122,
      "outputs": [
        {
          "output_type": "execute_result",
          "data": {
            "text/plain": [
              "<sklearn.metrics._plot.roc_curve.RocCurveDisplay at 0x7f01e3116390>"
            ]
          },
          "metadata": {},
          "execution_count": 122
        },
        {
          "output_type": "display_data",
          "data": {
            "text/plain": [
              "<Figure size 432x288 with 1 Axes>"
            ],
            "image/png": "[encoded data removed]"
          },
          "metadata": {
            "needs_background": "light"
          }
        }
      ]
    }
  ]
}